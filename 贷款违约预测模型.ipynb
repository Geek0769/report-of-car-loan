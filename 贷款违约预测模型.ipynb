{
 "cells": [
  {
   "cell_type": "code",
   "execution_count": 1,
   "id": "5877a491",
   "metadata": {},
   "outputs": [],
   "source": [
    "import numpy as np\n",
    "import pandas as pd\n",
    "from matplotlib import pyplot as plt\n",
    "plt.rcParams['font.sans-serif']=['SimHei'] \n",
    "import warnings \n",
    "warnings.filterwarnings('ignore')\n",
    "from scipy.stats import chi2_contingency\n",
    "from scipy import stats\n",
    "from statsmodels.stats.outliers_influence import variance_inflation_factor"
   ]
  },
  {
   "cell_type": "code",
   "execution_count": 3,
   "id": "d13ad3a1",
   "metadata": {},
   "outputs": [],
   "source": [
    "customer_info=pd.read_csv(r'C:/Users/Mr.Xiao/Desktop/车贷违约预测.csv',encoding='gbk')"
   ]
  },
  {
   "cell_type": "markdown",
   "id": "26746851",
   "metadata": {},
   "source": [
    "# 数据清洗"
   ]
  },
  {
   "cell_type": "code",
   "execution_count": 4,
   "id": "2421e809",
   "metadata": {},
   "outputs": [
    {
     "name": "stdout",
     "output_type": "stream",
     "text": [
      "数据集中共有199717个样本,有49个特征\n"
     ]
    }
   ],
   "source": [
    "#customer_info.astype('str').describe()\n",
    "#customer_info.describe()\n",
    "des=customer_info.shape\n",
    "print('数据集中共有%s个样本,有%i个特征'%des)"
   ]
  },
  {
   "cell_type": "markdown",
   "id": "0a026a0e",
   "metadata": {},
   "source": [
    "## 异常值"
   ]
  },
  {
   "cell_type": "code",
   "execution_count": 5,
   "id": "f6da1b02",
   "metadata": {},
   "outputs": [],
   "source": [
    "customer_info=customer_info[2022-customer_info['出生日期']<=60] #针对60岁以上客户不发放贷款"
   ]
  },
  {
   "cell_type": "code",
   "execution_count": 6,
   "id": "84915a72",
   "metadata": {},
   "outputs": [],
   "source": [
    "customer_info['总贷款']=customer_info['主账户中已发放贷款']+customer_info['次账户中已发放贷款']"
   ]
  },
  {
   "cell_type": "code",
   "execution_count": 7,
   "id": "e58ba591",
   "metadata": {},
   "outputs": [
    {
     "data": {
      "image/png": "[encoded data removed]",
      "text/plain": [
       "<Figure size 432x288 with 1 Axes>"
      ]
     },
     "metadata": {
      "needs_background": "light"
     },
     "output_type": "display_data"
    }
   ],
   "source": [
    "x=customer_info['总贷款']\n",
    "plt.boxplot(x,vert=False)\n",
    "plt.show() #存在显著异常值"
   ]
  },
  {
   "cell_type": "code",
   "execution_count": 8,
   "id": "ba282842",
   "metadata": {},
   "outputs": [],
   "source": [
    "boxrange=x.quantile(0.75)-x.quantile(0.25)\n",
    "customer_info=customer_info[customer_info['总贷款']<=x.mean()+1.5*boxrange]"
   ]
  },
  {
   "cell_type": "code",
   "execution_count": null,
   "id": "5b91dc96",
   "metadata": {},
   "outputs": [],
   "source": []
  },
  {
   "cell_type": "markdown",
   "id": "30a2dcfd",
   "metadata": {},
   "source": [
    "## 特征工程"
   ]
  },
  {
   "cell_type": "code",
   "execution_count": 10,
   "id": "7114f980",
   "metadata": {},
   "outputs": [
    {
     "data": {
      "text/html": [
       "<div>\n",
       "<style scoped>\n",
       "    .dataframe tbody tr th:only-of-type {\n",
       "        vertical-align: middle;\n",
       "    }\n",
       "\n",
       "    .dataframe tbody tr th {\n",
       "        vertical-align: top;\n",
       "    }\n",
       "\n",
       "    .dataframe thead th {\n",
       "        text-align: right;\n",
       "    }\n",
       "</style>\n",
       "<table border=\"1\" class=\"dataframe\">\n",
       "  <thead>\n",
       "    <tr style=\"text-align: right;\">\n",
       "      <th></th>\n",
       "      <th>品牌</th>\n",
       "      <th>工作类型</th>\n",
       "      <th>骑车销售商</th>\n",
       "      <th>车厂</th>\n",
       "      <th>地区</th>\n",
       "    </tr>\n",
       "  </thead>\n",
       "  <tbody>\n",
       "    <tr>\n",
       "      <th>0</th>\n",
       "      <td>136</td>\n",
       "      <td>0</td>\n",
       "      <td>20490</td>\n",
       "      <td>45</td>\n",
       "      <td>8</td>\n",
       "    </tr>\n",
       "    <tr>\n",
       "      <th>2</th>\n",
       "      <td>5</td>\n",
       "      <td>1</td>\n",
       "      <td>15663</td>\n",
       "      <td>86</td>\n",
       "      <td>9</td>\n",
       "    </tr>\n",
       "    <tr>\n",
       "      <th>3</th>\n",
       "      <td>76</td>\n",
       "      <td>0</td>\n",
       "      <td>17242</td>\n",
       "      <td>48</td>\n",
       "      <td>8</td>\n",
       "    </tr>\n",
       "    <tr>\n",
       "      <th>5</th>\n",
       "      <td>152</td>\n",
       "      <td>0</td>\n",
       "      <td>14470</td>\n",
       "      <td>51</td>\n",
       "      <td>3</td>\n",
       "    </tr>\n",
       "    <tr>\n",
       "      <th>6</th>\n",
       "      <td>34</td>\n",
       "      <td>1</td>\n",
       "      <td>16556</td>\n",
       "      <td>86</td>\n",
       "      <td>6</td>\n",
       "    </tr>\n",
       "    <tr>\n",
       "      <th>...</th>\n",
       "      <td>...</td>\n",
       "      <td>...</td>\n",
       "      <td>...</td>\n",
       "      <td>...</td>\n",
       "      <td>...</td>\n",
       "    </tr>\n",
       "    <tr>\n",
       "      <th>199710</th>\n",
       "      <td>5</td>\n",
       "      <td>1</td>\n",
       "      <td>16817</td>\n",
       "      <td>48</td>\n",
       "      <td>9</td>\n",
       "    </tr>\n",
       "    <tr>\n",
       "      <th>199711</th>\n",
       "      <td>13</td>\n",
       "      <td>1</td>\n",
       "      <td>14614</td>\n",
       "      <td>86</td>\n",
       "      <td>8</td>\n",
       "    </tr>\n",
       "    <tr>\n",
       "      <th>199713</th>\n",
       "      <td>34</td>\n",
       "      <td>0</td>\n",
       "      <td>15142</td>\n",
       "      <td>86</td>\n",
       "      <td>6</td>\n",
       "    </tr>\n",
       "    <tr>\n",
       "      <th>199715</th>\n",
       "      <td>74</td>\n",
       "      <td>1</td>\n",
       "      <td>16846</td>\n",
       "      <td>45</td>\n",
       "      <td>4</td>\n",
       "    </tr>\n",
       "    <tr>\n",
       "      <th>199716</th>\n",
       "      <td>2</td>\n",
       "      <td>2</td>\n",
       "      <td>23169</td>\n",
       "      <td>45</td>\n",
       "      <td>4</td>\n",
       "    </tr>\n",
       "  </tbody>\n",
       "</table>\n",
       "<p>171330 rows × 5 columns</p>\n",
       "</div>"
      ],
      "text/plain": [
       "         品牌  工作类型  骑车销售商  车厂  地区\n",
       "0       136     0  20490  45   8\n",
       "2         5     1  15663  86   9\n",
       "3        76     0  17242  48   8\n",
       "5       152     0  14470  51   3\n",
       "6        34     1  16556  86   6\n",
       "...     ...   ...    ...  ..  ..\n",
       "199710    5     1  16817  48   9\n",
       "199711   13     1  14614  86   8\n",
       "199713   34     0  15142  86   6\n",
       "199715   74     1  16846  45   4\n",
       "199716    2     2  23169  45   4\n",
       "\n",
       "[171330 rows x 5 columns]"
      ]
     },
     "execution_count": 10,
     "metadata": {},
     "output_type": "execute_result"
    }
   ],
   "source": [
    "customer_info2=customer_info.loc[:,['品牌','工作类型','骑车销售商','车厂','地区']]\n",
    "customer_info2                                   "
   ]
  },
  {
   "cell_type": "code",
   "execution_count": 83,
   "id": "de732ec4",
   "metadata": {},
   "outputs": [
    {
     "data": {
      "text/plain": [
       "Index(['已发货款', '资产成本', '贷款与资产比列', '品牌', '骑车销售商', '车厂', '出生日期', '地区', '对接员工编号',\n",
       "       '是否填写手机号', '受否填写身份证', '是否出具驾驶证', '是否填写护照', '信用评分', '主账户贷款次数',\n",
       "       '主账户有效贷款次数', '主账户中尚未还清有效贷款', '主账户中已批准的贷款', '主账户中已发放贷款', '次账户贷款次数',\n",
       "       '次账户有效贷款次数', '次账户中尚未还清有效贷款', '次账户中已批准贷款', '次账户中已发放贷款', '主账户每月还款',\n",
       "       '次账户没用还款', '近六个月新贷款次数', '近六个月违约次数', '平均贷款期限', '第一次贷款距今时间', '贷款查询次数',\n",
       "       '是否违约', '贷款与资产比', '贷款总次数', '主账户无效贷款次数', '次账户无效贷款次数', '无效贷款总次数',\n",
       "       '尚未还清有效贷款总额', '已批准贷款总额', '已发放贷款总额', '每月还款总额', '贷款与已还贷款比列', '主账户还款期数',\n",
       "       '次账户还款期数', '贷款与已批准贷款比列', '总贷款次数与总有效贷款次数比', '工作类型', '总贷款'],\n",
       "      dtype='object')"
      ]
     },
     "execution_count": 83,
     "metadata": {},
     "output_type": "execute_result"
    }
   ],
   "source": [
    "customer_info.columns"
   ]
  },
  {
   "cell_type": "code",
   "execution_count": null,
   "id": "77828783",
   "metadata": {},
   "outputs": [],
   "source": []
  },
  {
   "cell_type": "code",
   "execution_count": 82,
   "id": "166f84d4",
   "metadata": {},
   "outputs": [],
   "source": [
    "#customer_info.drop('客户编号',axis=1,inplace=True)\n",
    "customer_info.drop('货款日期',axis=1,inplace=True)"
   ]
  },
  {
   "cell_type": "code",
   "execution_count": 12,
   "id": "9356657e",
   "metadata": {
    "collapsed": true
   },
   "outputs": [
    {
     "name": "stdout",
     "output_type": "stream",
     "text": [
      "Chi_Square value=1889.1045, p-value=0.0000, degree of freedom=81 expected_frep=[[3.72421217e+03 8.42787831e+02]\n",
      " [7.81538196e+03 1.76861804e+03]\n",
      " [5.35187310e+03 1.21112690e+03]\n",
      " [5.29397535e+03 1.19802465e+03]\n",
      " [2.10144400e+03 4.75555997e+02]\n",
      " [1.96200011e+03 4.43999895e+02]\n",
      " [1.63663101e+03 3.70368990e+02]\n",
      " [2.72364104e+03 6.16358956e+02]\n",
      " [3.02291537e+03 6.84084626e+02]\n",
      " [1.58688787e+03 3.59112134e+02]\n",
      " [9.36149676e+02 2.11850324e+02]\n",
      " [1.71980807e+03 3.89191928e+02]\n",
      " [4.03245658e+03 9.12543425e+02]\n",
      " [7.07820487e+02 1.60179513e+02]\n",
      " [3.03922460e+03 6.87775398e+02]\n",
      " [3.34420716e+03 7.56792838e+02]\n",
      " [2.73505750e+03 6.18942497e+02]\n",
      " [1.02177312e+03 2.31226878e+02]\n",
      " [4.44263365e+03 1.00536635e+03]\n",
      " [3.84897776e+02 8.71022238e+01]\n",
      " [5.37389056e+03 1.21610944e+03]\n",
      " [1.76058114e+03 3.98418858e+02]\n",
      " [3.02536176e+02 6.84638242e+01]\n",
      " [2.96501762e+03 6.70982385e+02]\n",
      " [2.85900763e+03 6.46992366e+02]\n",
      " [3.80005008e+02 8.59949921e+01]\n",
      " [1.28190531e+03 2.90094694e+02]\n",
      " [9.58167134e+02 2.16832866e+02]\n",
      " [2.17972830e+03 4.93271704e+02]\n",
      " [1.73693276e+02 3.93067239e+01]\n",
      " [6.62236195e+03 1.49863805e+03]\n",
      " [1.28679807e+03 2.91201926e+02]\n",
      " [4.29748153e+02 9.72518473e+01]\n",
      " [1.01443397e+03 2.29566030e+02]\n",
      " [7.00481334e+02 1.58518666e+02]\n",
      " [8.21985081e+02 1.86014919e+02]\n",
      " [2.60703006e+03 5.89969935e+02]\n",
      " [4.99877832e+02 1.13122168e+02]\n",
      " [8.53788076e+02 1.93211924e+02]\n",
      " [1.33083299e+03 3.01167011e+02]\n",
      " [2.03539163e+03 4.60608370e+02]\n",
      " [6.24643425e+02 1.41356575e+02]\n",
      " [7.99152162e+01 1.80847838e+01]\n",
      " [1.09924195e+03 2.48758046e+02]\n",
      " [2.29144651e+02 5.18553493e+01]\n",
      " [1.99788041e+02 4.52119594e+01]\n",
      " [2.09573577e+02 4.74264227e+01]\n",
      " [2.36157619e+03 5.34423814e+02]\n",
      " [1.00220205e+03 2.26797951e+02]\n",
      " [1.48658611e+03 3.36413885e+02]\n",
      " [5.13740676e+01 1.16259324e+01]\n",
      " [3.19660865e+02 7.23391350e+01]\n",
      " [2.75136673e+03 6.22633269e+02]\n",
      " [5.09663369e+02 1.15336631e+02]\n",
      " [6.02625967e+02 1.36374033e+02]\n",
      " [1.79646144e+03 4.06538557e+02]\n",
      " [4.18250147e+03 9.46498529e+02]\n",
      " [2.44964602e+03 5.54353984e+02]\n",
      " [2.35668342e+02 5.33316582e+01]\n",
      " [3.31729694e+03 7.50703064e+02]\n",
      " [2.47329440e+03 5.59705603e+02]\n",
      " [3.16480566e+03 7.16194344e+02]\n",
      " [3.93867852e+02 8.91321485e+01]\n",
      " [3.42493784e+01 7.75062161e+00]\n",
      " [1.70757615e+03 3.86423849e+02]\n",
      " [2.01255871e+03 4.55441289e+02]\n",
      " [1.55834672e+03 3.52653283e+02]\n",
      " [6.57261881e+02 1.48738119e+02]\n",
      " [1.20688286e+03 2.73117142e+02]\n",
      " [4.21593539e+02 9.54064612e+01]\n",
      " [1.08456365e+02 2.45436351e+01]\n",
      " [1.10413472e+03 2.49865278e+02]\n",
      " [5.15371599e+02 1.16628401e+02]\n",
      " [8.71728226e+02 1.97271774e+02]\n",
      " [2.37217718e+03 5.36822816e+02]\n",
      " [1.00464843e+03 2.27351567e+02]\n",
      " [1.08537911e+03 2.45620890e+02]\n",
      " [7.61640939e+02 1.72359061e+02]\n",
      " [2.07942655e+02 4.70573455e+01]\n",
      " [2.18543653e+02 4.94563474e+01]\n",
      " [2.13650884e+02 4.83491157e+01]\n",
      " [8.97007529e+01 2.02992471e+01]]\n"
     ]
    },
    {
     "data": {
      "text/plain": [
       "Text(0.5, 1.0, '品牌违约率')"
      ]
     },
     "execution_count": 12,
     "metadata": {},
     "output_type": "execute_result"
    },
    {
     "data": {
      "image/png": "[encoded data removed]",
      "text/plain": [
       "<Figure size 432x288 with 1 Axes>"
      ]
     },
     "metadata": {
      "needs_background": "light"
     },
     "output_type": "display_data"
    }
   ],
   "source": [
    "df=pd.DataFrame(pd.pivot_table(customer_info,values='总贷款',index='品牌',columns='是否违约',aggfunc='count'))\n",
    "kf=chi2_contingency(df)\n",
    "print('Chi_Square value=%.4f, p-value=%.4f, degree of freedom=%i expected_frep=%s'%kf)\n",
    "df['percentage']=df[1]/(df[0]+df[1])\n",
    "df.sort_values(by='percentage',axis=0,inplace=True)\n",
    "x=range(82)\n",
    "_=plt.bar(x,height=df['percentage'],alpha=0.6,color='brown')\n",
    "plt.title('品牌违约率')"
   ]
  },
  {
   "cell_type": "code",
   "execution_count": 13,
   "id": "6786477a",
   "metadata": {
    "collapsed": true
   },
   "outputs": [
    {
     "name": "stdout",
     "output_type": "stream",
     "text": [
      "Chi_Square value=257.1266, p-value=0.0000, degree of freedom=9 expected_frep=[[3.48838074e+04 7.89419265e+03]\n",
      " [1.01810355e+04 2.30396454e+03]\n",
      " [6.39240184e+03 1.44659816e+03]\n",
      " [1.60499111e+04 3.63208892e+03]\n",
      " [1.25662600e+03 2.84373998e+02]\n",
      " [6.50134748e+04 1.47125252e+04]\n",
      " [5.49620977e+03 1.24379023e+03]\n",
      " [4.30563614e+02 9.74363859e+01]\n",
      " [1.63092278e+00 3.69077219e-01]\n",
      " [7.33915251e+00 1.66084749e+00]]\n"
     ]
    },
    {
     "data": {
      "text/plain": [
       "Text(0.5, 1.0, '车厂违约率')"
      ]
     },
     "execution_count": 13,
     "metadata": {},
     "output_type": "execute_result"
    },
    {
     "data": {
      "image/png": "[encoded data removed]",
      "text/plain": [
       "<Figure size 432x288 with 1 Axes>"
      ]
     },
     "metadata": {
      "needs_background": "light"
     },
     "output_type": "display_data"
    }
   ],
   "source": [
    "df=pd.DataFrame(pd.pivot_table(customer_info,values='总贷款',index='车厂',columns='是否违约',aggfunc='count'))\n",
    "df.fillna(0,inplace=True)\n",
    "kf=chi2_contingency(df)\n",
    "print('Chi_Square value=%.4f, p-value=%.4f, degree of freedom=%i expected_frep=%s'%kf)\n",
    "df['percentage']=df[1]/(df[0]+df[1])\n",
    "df.sort_values(by='percentage',axis=0,inplace=True)\n",
    "x=range(1,11)\n",
    "plt.bar(x,height=df['percentage'],alpha=0.6,color='brown')\n",
    "plt.title('车厂违约率')"
   ]
  },
  {
   "cell_type": "code",
   "execution_count": 75,
   "id": "7c30101a",
   "metadata": {
    "collapsed": true
   },
   "outputs": [
    {
     "name": "stdout",
     "output_type": "stream",
     "text": [
      "Chi_Square value=113.6486, p-value=0.0000, degree of freedom=2 expected_frep=[[75869.71229207 17169.28770793]\n",
      " [58859.18769042 13319.81230958]\n",
      " [ 4984.10001751  1127.89998249]]\n"
     ]
    },
    {
     "data": {
      "text/plain": [
       "Text(0.5, 1.0, '工作类型违约率')"
      ]
     },
     "execution_count": 75,
     "metadata": {},
     "output_type": "execute_result"
    },
    {
     "data": {
      "image/png": "[encoded data removed]",
      "text/plain": [
       "<Figure size 432x288 with 1 Axes>"
      ]
     },
     "metadata": {
      "needs_background": "light"
     },
     "output_type": "display_data"
    }
   ],
   "source": [
    "df=pd.DataFrame(pd.pivot_table(customer_info,values='总贷款',index='工作类型',columns='是否违约',aggfunc='count'))\n",
    "df.fillna(0,inplace=True)\n",
    "kf=chi2_contingency(df)\n",
    "print('Chi_Square value=%.4f, p-value=%.4f, degree of freedom=%i expected_frep=%s'%kf)\n",
    "df['percentage']=df[1]/(df[0]+df[1])\n",
    "df.sort_values(by='percentage',axis=0,inplace=True)\n",
    "plt.bar(df.index,height=df['percentage'],alpha=0.6,color='brown',width=0.15)\n",
    "plt.title('工作类型违约率')"
   ]
  },
  {
   "cell_type": "code",
   "execution_count": 80,
   "id": "6dc330ab",
   "metadata": {
    "collapsed": true
   },
   "outputs": [
    {
     "name": "stdout",
     "output_type": "stream",
     "text": [
      "Chi_Square value=1064.1242, p-value=0.0000, degree of freedom=21 expected_frep=[[5.18062621e+03 1.17237379e+03]\n",
      " [2.47329440e+03 5.59705603e+02]\n",
      " [2.22033827e+04 5.02461726e+03]\n",
      " [2.64323655e+04 5.98163449e+03]\n",
      " [6.35733700e+03 1.43866300e+03]\n",
      " [1.94601706e+04 4.40382938e+03]\n",
      " [4.17760870e+03 9.45391297e+02]\n",
      " [7.64005777e+03 1.72894223e+03]\n",
      " [9.17149426e+03 2.07550574e+03]\n",
      " [2.28410735e+03 5.16892646e+02]\n",
      " [3.81065108e+03 8.62348923e+02]\n",
      " [2.75136673e+03 6.22633269e+02]\n",
      " [1.09304445e+04 2.47355552e+03]\n",
      " [5.81913248e+03 1.31686752e+03]\n",
      " [2.95115477e+03 6.67845229e+02]\n",
      " [1.49718711e+03 3.38812887e+02]\n",
      " [2.46350886e+03 5.57491140e+02]\n",
      " [3.24227449e+03 7.33725512e+02]\n",
      " [6.24643425e+02 1.41356575e+02]\n",
      " [1.23950131e+02 2.80498687e+01]\n",
      " [7.99152162e+01 1.80847838e+01]\n",
      " [3.83266853e+01 8.67331466e+00]]\n"
     ]
    },
    {
     "data": {
      "text/plain": [
       "Text(0.5, 1.0, '地区违约率')"
      ]
     },
     "execution_count": 80,
     "metadata": {},
     "output_type": "execute_result"
    },
    {
     "data": {
      "image/png": "[encoded data removed]",
      "text/plain": [
       "<Figure size 432x288 with 1 Axes>"
      ]
     },
     "metadata": {
      "needs_background": "light"
     },
     "output_type": "display_data"
    }
   ],
   "source": [
    "df=pd.DataFrame(pd.pivot_table(customer_info,values='总贷款',index='地区',columns='是否违约',aggfunc='count'))\n",
    "df.fillna(0,inplace=True)\n",
    "kf=chi2_contingency(df)\n",
    "print('Chi_Square value=%.4f, p-value=%.4f, degree of freedom=%i expected_frep=%s'%kf)\n",
    "df['percentage']=df[1]/(df[0]+df[1])\n",
    "df.sort_values(by='percentage',axis=0,inplace=True)\n",
    "plt.bar(df.index,height=df['percentage'],alpha=0.6,color='brown')\n",
    "plt.title('地区违约率')"
   ]
  },
  {
   "cell_type": "code",
   "execution_count": 87,
   "id": "2d6baaf7",
   "metadata": {
    "collapsed": true
   },
   "outputs": [
    {
     "name": "stdout",
     "output_type": "stream",
     "text": [
      "Chi_Square value=7064.0145, p-value=0.0000, degree of freedom=2911 expected_frep=[[ 4.89276834  1.10723166]\n",
      " [ 1.63092278  0.36907722]\n",
      " [27.72568727  6.27431273]\n",
      " ...\n",
      " [ 1.63092278  0.36907722]\n",
      " [ 1.63092278  0.36907722]\n",
      " [ 1.63092278  0.36907722]]\n"
     ]
    },
    {
     "data": {
      "text/plain": [
       "Text(0.5, 1.0, '骑车销售商违约率')"
      ]
     },
     "execution_count": 87,
     "metadata": {},
     "output_type": "execute_result"
    },
    {
     "data": {
      "image/png": "[encoded data removed]",
      "text/plain": [
       "<Figure size 432x288 with 1 Axes>"
      ]
     },
     "metadata": {
      "needs_background": "light"
     },
     "output_type": "display_data"
    }
   ],
   "source": [
    "df=pd.DataFrame(pd.pivot_table(customer_info,values='总贷款',index='骑车销售商',columns='是否违约',aggfunc='count'))\n",
    "df.fillna(0,inplace=True)\n",
    "kf=chi2_contingency(df)\n",
    "print('Chi_Square value=%.4f, p-value=%.4f, degree of freedom=%i expected_frep=%s'%kf)\n",
    "df['percentage']=df[1]/(df[0]+df[1])\n",
    "df.sort_values(by='percentage',axis=0,inplace=True)\n",
    "x=range(2912)\n",
    "plt.bar(x,height=df['percentage'],alpha=0.6,color='brown')\n",
    "plt.title('骑车销售商违约率')"
   ]
  },
  {
   "cell_type": "markdown",
   "id": "7e42c614",
   "metadata": {
    "collapsed": true
   },
   "source": [
    "## 特征工程（连续变量）"
   ]
  },
  {
   "cell_type": "code",
   "execution_count": 14,
   "id": "dec3e672",
   "metadata": {
    "collapsed": true
   },
   "outputs": [
    {
     "data": {
      "text/plain": [
       "{'whiskers': [<matplotlib.lines.Line2D at 0x219904ae0c8>,\n",
       "  <matplotlib.lines.Line2D at 0x219904abfc8>],\n",
       " 'caps': [<matplotlib.lines.Line2D at 0x219904ae648>,\n",
       "  <matplotlib.lines.Line2D at 0x2198d49d548>],\n",
       " 'boxes': [<matplotlib.lines.Line2D at 0x219904ab708>],\n",
       " 'medians': [<matplotlib.lines.Line2D at 0x219900cc148>],\n",
       " 'fliers': [<matplotlib.lines.Line2D at 0x219904aed48>],\n",
       " 'means': []}"
      ]
     },
     "execution_count": 14,
     "metadata": {},
     "output_type": "execute_result"
    },
    {
     "data": {
      "image/png": "[encoded data removed]",
      "text/plain": [
       "<Figure size 432x288 with 1 Axes>"
      ]
     },
     "metadata": {
      "needs_background": "light"
     },
     "output_type": "display_data"
    }
   ],
   "source": [
    "stats.ttest_ind(customer_info.主账户贷款次数[customer_info['是否违约']==1],customer_info.主账户贷款次数[customer_info['是否违约']==0])\n",
    "df=pd.crosstab(columns=customer_info['是否违约'],index=customer_info['主账户贷款次数'],values='总贷款',aggfunc='count')\n",
    "df.fillna(0,inplace=True)\n",
    "df['percentage']=df[1]/(df[0]+df[1])\n",
    "plt.boxplot(df['percentage'])"
   ]
  },
  {
   "cell_type": "code",
   "execution_count": 15,
   "id": "40e583f4",
   "metadata": {
    "collapsed": true
   },
   "outputs": [
    {
     "data": {
      "text/plain": [
       "{'whiskers': [<matplotlib.lines.Line2D at 0x2198d91a8c8>,\n",
       "  <matplotlib.lines.Line2D at 0x2198d91adc8>],\n",
       " 'caps': [<matplotlib.lines.Line2D at 0x2198d91a7c8>,\n",
       "  <matplotlib.lines.Line2D at 0x21985824608>],\n",
       " 'boxes': [<matplotlib.lines.Line2D at 0x2198d91a2c8>],\n",
       " 'medians': [<matplotlib.lines.Line2D at 0x2198daafec8>],\n",
       " 'fliers': [<matplotlib.lines.Line2D at 0x2198d4e3f88>],\n",
       " 'means': []}"
      ]
     },
     "execution_count": 15,
     "metadata": {},
     "output_type": "execute_result"
    },
    {
     "data": {
      "image/png": "[encoded data removed]",
      "text/plain": [
       "<Figure size 432x288 with 1 Axes>"
      ]
     },
     "metadata": {
      "needs_background": "light"
     },
     "output_type": "display_data"
    }
   ],
   "source": [
    "stats.ttest_ind(customer_info.主账户有效贷款次数[customer_info['是否违约']==1],customer_info.主账户有效贷款次数[customer_info['是否违约']==0])\n",
    "df=pd.crosstab(columns=customer_info['是否违约'],index=customer_info['主账户有效贷款次数'],values='总贷款',aggfunc='count')\n",
    "df.fillna(0,inplace=True)\n",
    "df['percentage']=df[1]/(df[0]+df[1])\n",
    "plt.boxplot(df['percentage'])"
   ]
  },
  {
   "cell_type": "code",
   "execution_count": 109,
   "id": "0bddaa40",
   "metadata": {
    "collapsed": true
   },
   "outputs": [
    {
     "data": {
      "text/plain": [
       "Index(['已发货款', '资产成本', '贷款与资产比列', '品牌', '骑车销售商', '车厂', '出生日期', '地区', '对接员工编号',\n",
       "       '是否填写手机号', '受否填写身份证', '是否出具驾驶证', '是否填写护照', '信用评分', '主账户贷款次数',\n",
       "       '主账户有效贷款次数', '主账户中尚未还清有效贷款', '主账户中已批准的贷款', '主账户中已发放贷款', '次账户贷款次数',\n",
       "       '次账户有效贷款次数', '次账户中尚未还清有效贷款', '次账户中已批准贷款', '次账户中已发放贷款', '主账户每月还款',\n",
       "       '次账户没用还款', '近六个月新贷款次数', '近六个月违约次数', '平均贷款期限', '第一次贷款距今时间', '贷款查询次数',\n",
       "       '是否违约', '贷款与资产比', '贷款总次数', '主账户无效贷款次数', '次账户无效贷款次数', '无效贷款总次数',\n",
       "       '尚未还清有效贷款总额', '已批准贷款总额', '已发放贷款总额', '每月还款总额', '贷款与已还贷款比列', '主账户还款期数',\n",
       "       '次账户还款期数', '贷款与已批准贷款比列', '总贷款次数与总有效贷款次数比', '工作类型', '总贷款'],\n",
       "      dtype='object')"
      ]
     },
     "execution_count": 109,
     "metadata": {},
     "output_type": "execute_result"
    }
   ],
   "source": [
    "customer_info.columns"
   ]
  },
  {
   "cell_type": "code",
   "execution_count": 111,
   "id": "a0d14300",
   "metadata": {
    "collapsed": true
   },
   "outputs": [
    {
     "data": {
      "text/plain": [
       "Ttest_indResult(statistic=0.3162069108194927, pvalue=0.7518458478044048)"
      ]
     },
     "execution_count": 111,
     "metadata": {},
     "output_type": "execute_result"
    },
    {
     "data": {
      "image/png": "[encoded data removed]",
      "text/plain": [
       "<Figure size 432x288 with 1 Axes>"
      ]
     },
     "metadata": {
      "needs_background": "light"
     },
     "output_type": "display_data"
    }
   ],
   "source": [
    "df=pd.crosstab(columns=customer_info['是否违约'],index=customer_info['主账户中尚未还清有效贷款'],values='总贷款',aggfunc='count')\n",
    "df.fillna(0,inplace=True)\n",
    "df['percentage']=df[1]/(df[0]+df[1])\n",
    "plt.boxplot(df['percentage'])\n",
    "stats.ttest_ind(customer_info.主账户中尚未还清有效贷款[customer_info['是否违约']==1],customer_info.主账户中尚未还清有效贷款[customer_info['是否违约']==0])"
   ]
  },
  {
   "cell_type": "code",
   "execution_count": 112,
   "id": "04d3919b",
   "metadata": {
    "collapsed": true
   },
   "outputs": [
    {
     "data": {
      "text/plain": [
       "Ttest_indResult(statistic=-6.881290616670317, pvalue=5.951519874178259e-12)"
      ]
     },
     "execution_count": 112,
     "metadata": {},
     "output_type": "execute_result"
    },
    {
     "data": {
      "image/png": "[encoded data removed]",
      "text/plain": [
       "<Figure size 432x288 with 1 Axes>"
      ]
     },
     "metadata": {
      "needs_background": "light"
     },
     "output_type": "display_data"
    }
   ],
   "source": [
    "df=pd.crosstab(columns=customer_info['是否违约'],index=customer_info['主账户中已批准的贷款'],values='总贷款',aggfunc='count')\n",
    "df.fillna(0,inplace=True)\n",
    "df['percentage']=df[1]/(df[0]+df[1])\n",
    "plt.boxplot(df['percentage'])\n",
    "stats.ttest_ind(customer_info.主账户中已批准的贷款[customer_info['是否违约']==1],customer_info.主账户中已批准的贷款[customer_info['是否违约']==0])"
   ]
  },
  {
   "cell_type": "code",
   "execution_count": 113,
   "id": "58b6e345",
   "metadata": {
    "collapsed": true
   },
   "outputs": [
    {
     "data": {
      "text/plain": [
       "Ttest_indResult(statistic=-5.313115768687635, pvalue=1.0790066222428943e-07)"
      ]
     },
     "execution_count": 113,
     "metadata": {},
     "output_type": "execute_result"
    },
    {
     "data": {
      "image/png": "[encoded data removed]",
      "text/plain": [
       "<Figure size 432x288 with 1 Axes>"
      ]
     },
     "metadata": {
      "needs_background": "light"
     },
     "output_type": "display_data"
    }
   ],
   "source": [
    "df=pd.crosstab(columns=customer_info['是否违约'],index=customer_info['主账户中已发放贷款'],values='总贷款',aggfunc='count')\n",
    "df.fillna(0,inplace=True)\n",
    "df['percentage']=df[1]/(df[0]+df[1])\n",
    "plt.boxplot(df['percentage'])\n",
    "stats.ttest_ind(customer_info.主账户中已发放贷款[customer_info['是否违约']==1],customer_info.主账户中已发放贷款[customer_info['是否违约']==0])"
   ]
  },
  {
   "cell_type": "code",
   "execution_count": 114,
   "id": "c48c0b72",
   "metadata": {
    "collapsed": true
   },
   "outputs": [
    {
     "data": {
      "text/plain": [
       "Ttest_indResult(statistic=-1.075839019746673, pvalue=0.2820007730095898)"
      ]
     },
     "execution_count": 114,
     "metadata": {},
     "output_type": "execute_result"
    },
    {
     "data": {
      "image/png": "[encoded data removed]",
      "text/plain": [
       "<Figure size 432x288 with 1 Axes>"
      ]
     },
     "metadata": {
      "needs_background": "light"
     },
     "output_type": "display_data"
    }
   ],
   "source": [
    "df=pd.crosstab(columns=customer_info['是否违约'],index=customer_info['次账户贷款次数'],values='总贷款',aggfunc='count')\n",
    "df.fillna(0,inplace=True)\n",
    "df['percentage']=df[1]/(df[0]+df[1])\n",
    "plt.boxplot(df['percentage'])\n",
    "stats.ttest_ind(customer_info.次账户贷款次数[customer_info['是否违约']==1],customer_info.次账户贷款次数[customer_info['是否违约']==0])"
   ]
  },
  {
   "cell_type": "code",
   "execution_count": 115,
   "id": "5a50d434",
   "metadata": {
    "collapsed": true
   },
   "outputs": [
    {
     "data": {
      "text/plain": [
       "Ttest_indResult(statistic=-4.519337020015357, pvalue=6.207498387868622e-06)"
      ]
     },
     "execution_count": 115,
     "metadata": {},
     "output_type": "execute_result"
    },
    {
     "data": {
      "image/png": "[encoded data removed]",
      "text/plain": [
       "<Figure size 432x288 with 1 Axes>"
      ]
     },
     "metadata": {
      "needs_background": "light"
     },
     "output_type": "display_data"
    }
   ],
   "source": [
    "df=pd.crosstab(columns=customer_info['是否违约'],index=customer_info['主账户每月还款'],values='总贷款',aggfunc='count')\n",
    "df.fillna(0,inplace=True)\n",
    "df['percentage']=df[1]/(df[0]+df[1])\n",
    "plt.boxplot(df['percentage'])\n",
    "stats.ttest_ind(customer_info.主账户每月还款[customer_info['是否违约']==1],customer_info.主账户每月还款[customer_info['是否违约']==0])"
   ]
  },
  {
   "cell_type": "code",
   "execution_count": 117,
   "id": "cfbe4bff",
   "metadata": {
    "collapsed": true
   },
   "outputs": [
    {
     "data": {
      "text/plain": [
       "Ttest_indResult(statistic=0.3596379411594508, pvalue=0.7191183497417198)"
      ]
     },
     "execution_count": 117,
     "metadata": {},
     "output_type": "execute_result"
    },
    {
     "data": {
      "image/png": "[encoded data removed]",
      "text/plain": [
       "<Figure size 432x288 with 1 Axes>"
      ]
     },
     "metadata": {
      "needs_background": "light"
     },
     "output_type": "display_data"
    }
   ],
   "source": [
    "df=pd.crosstab(columns=customer_info['是否违约'],index=customer_info['次账户没用还款'],values='总贷款',aggfunc='count')\n",
    "df.fillna(0,inplace=True)\n",
    "df['percentage']=df[1]/(df[0]+df[1])\n",
    "plt.boxplot(df['percentage'])\n",
    "stats.ttest_ind(customer_info.次账户没用还款[customer_info['是否违约']==1],customer_info.次账户没用还款[customer_info['是否违约']==0])"
   ]
  },
  {
   "cell_type": "code",
   "execution_count": 119,
   "id": "ed5e7fda",
   "metadata": {
    "collapsed": true
   },
   "outputs": [
    {
     "data": {
      "text/plain": [
       "Ttest_indResult(statistic=-6.195655167911387, pvalue=5.817443845601251e-10)"
      ]
     },
     "execution_count": 119,
     "metadata": {},
     "output_type": "execute_result"
    },
    {
     "data": {
      "image/png": "[encoded data removed]",
      "text/plain": [
       "<Figure size 432x288 with 1 Axes>"
      ]
     },
     "metadata": {
      "needs_background": "light"
     },
     "output_type": "display_data"
    }
   ],
   "source": [
    "df=pd.crosstab(columns=customer_info['是否违约'],index=customer_info['近六个月新贷款次数'],values='总贷款',aggfunc='count')\n",
    "df.fillna(0,inplace=True)\n",
    "df['percentage']=df[1]/(df[0]+df[1])\n",
    "plt.boxplot(df['percentage'])\n",
    "stats.ttest_ind(customer_info.近六个月新贷款次数[customer_info['是否违约']==1],customer_info.近六个月新贷款次数[customer_info['是否违约']==0])"
   ]
  },
  {
   "cell_type": "code",
   "execution_count": 56,
   "id": "baa73bd7",
   "metadata": {},
   "outputs": [
    {
     "data": {
      "text/plain": [
       "Ttest_indResult(statistic=19.25172860188281, pvalue=1.6696457450525643e-82)"
      ]
     },
     "execution_count": 56,
     "metadata": {},
     "output_type": "execute_result"
    },
    {
     "data": {
      "image/png": "[encoded data removed]",
      "text/plain": [
       "<Figure size 432x288 with 1 Axes>"
      ]
     },
     "metadata": {
      "needs_background": "light"
     },
     "output_type": "display_data"
    }
   ],
   "source": [
    "df=pd.crosstab(columns=customer_info['是否违约'],index=customer_info['近六个月违约次数'],values='总贷款',aggfunc='count')\n",
    "df.fillna(0,inplace=True)\n",
    "df['percentage']=df[1]/(df[0]+df[1])\n",
    "plt.bar(x=df.index,height=df['percentage'],alpha=0.6,color='brown')\n",
    "plt.title('近六个月违约次数')\n",
    "stats.ttest_ind(customer_info.近六个月违约次数[customer_info['是否违约']==1],customer_info.近六个月违约次数[customer_info['是否违约']==0])"
   ]
  },
  {
   "cell_type": "code",
   "execution_count": 124,
   "id": "881c329c",
   "metadata": {
    "collapsed": true
   },
   "outputs": [
    {
     "data": {
      "text/plain": [
       "Ttest_indResult(statistic=-2.786980412615744, pvalue=0.005320754820646361)"
      ]
     },
     "execution_count": 124,
     "metadata": {},
     "output_type": "execute_result"
    },
    {
     "data": {
      "image/png": "[encoded data removed]",
      "text/plain": [
       "<Figure size 432x288 with 1 Axes>"
      ]
     },
     "metadata": {
      "needs_background": "light"
     },
     "output_type": "display_data"
    }
   ],
   "source": [
    "df=pd.crosstab(columns=customer_info['是否违约'],index=customer_info['平均贷款期限'],values='总贷款',aggfunc='count')\n",
    "df.fillna(0,inplace=True)\n",
    "df['percentage']=df[1]/(df[0]+df[1])\n",
    "plt.boxplot(df['percentage'])\n",
    "stats.ttest_ind(customer_info.平均贷款期限[customer_info['是否违约']==1],customer_info.平均贷款期限[customer_info['是否违约']==0])"
   ]
  },
  {
   "cell_type": "code",
   "execution_count": 126,
   "id": "0f3b4393",
   "metadata": {
    "collapsed": true
   },
   "outputs": [
    {
     "data": {
      "text/plain": [
       "Ttest_indResult(statistic=-4.283103495405598, pvalue=1.8440459816905007e-05)"
      ]
     },
     "execution_count": 126,
     "metadata": {},
     "output_type": "execute_result"
    },
    {
     "data": {
      "image/png": "[encoded data removed]",
      "text/plain": [
       "<Figure size 432x288 with 1 Axes>"
      ]
     },
     "metadata": {
      "needs_background": "light"
     },
     "output_type": "display_data"
    }
   ],
   "source": [
    "df=pd.crosstab(columns=customer_info['是否违约'],index=customer_info['第一次贷款距今时间'],values='总贷款',aggfunc='count')\n",
    "df.fillna(0,inplace=True)\n",
    "df['percentage']=df[1]/(df[0]+df[1])\n",
    "plt.boxplot(df['percentage'])\n",
    "stats.ttest_ind(customer_info.第一次贷款距今时间[customer_info['是否违约']==1],customer_info.第一次贷款距今时间[customer_info['是否违约']==0])"
   ]
  },
  {
   "cell_type": "code",
   "execution_count": 57,
   "id": "e730c086",
   "metadata": {},
   "outputs": [
    {
     "data": {
      "text/plain": [
       "Ttest_indResult(statistic=18.05710511715943, pvalue=8.106778044723715e-73)"
      ]
     },
     "execution_count": 57,
     "metadata": {},
     "output_type": "execute_result"
    },
    {
     "data": {
      "image/png": "[encoded data removed]",
      "text/plain": [
       "<Figure size 432x288 with 1 Axes>"
      ]
     },
     "metadata": {
      "needs_background": "light"
     },
     "output_type": "display_data"
    }
   ],
   "source": [
    "df=pd.crosstab(columns=customer_info['是否违约'],index=customer_info['贷款查询次数'],values='总贷款',aggfunc='count')\n",
    "df.fillna(0,inplace=True)\n",
    "df['percentage']=df[1]/(df[0]+df[1])\n",
    "plt.bar(x=df.index,height=df['percentage'],alpha=0.6,color='brown')\n",
    "plt.title('贷款查询次数')\n",
    "stats.ttest_ind(customer_info.贷款查询次数[customer_info['是否违约']==1],customer_info.贷款查询次数[customer_info['是否违约']==0])"
   ]
  },
  {
   "cell_type": "code",
   "execution_count": 155,
   "id": "a87ab823",
   "metadata": {},
   "outputs": [
    {
     "data": {
      "text/plain": [
       "Ttest_indResult(statistic=41.29779378987618, pvalue=0.0)"
      ]
     },
     "execution_count": 155,
     "metadata": {},
     "output_type": "execute_result"
    },
    {
     "data": {
      "image/png": "[encoded data removed]",
      "text/plain": [
       "<Figure size 432x288 with 1 Axes>"
      ]
     },
     "metadata": {
      "needs_background": "light"
     },
     "output_type": "display_data"
    }
   ],
   "source": [
    "customer_info=customer_info.round({'贷款与资产比':2})\n",
    "df=pd.crosstab(columns=customer_info['是否违约'],index=customer_info['贷款与资产比'],values='总贷款',aggfunc='count')\n",
    "df.fillna(0,inplace=True)\n",
    "df['percentage']=df[1]/(df[0]+df[1])\n",
    "plt.plot(df['percentage'])\n",
    "stats.ttest_ind(customer_info.贷款与资产比[customer_info['是否违约']==1],customer_info.贷款与资产比[customer_info['是否违约']==0])"
   ]
  },
  {
   "cell_type": "code",
   "execution_count": 16,
   "id": "8f1a4434",
   "metadata": {},
   "outputs": [],
   "source": [
    "def t_test(num):\n",
    "    result=stats.ttest_ind(customer_info.iloc[:,num][customer_info['是否违约']==1],customer_info.iloc[:,num][customer_info['是否违约']==0])\n",
    "    return result"
   ]
  },
  {
   "cell_type": "code",
   "execution_count": 40,
   "id": "9e9e1bd2",
   "metadata": {},
   "outputs": [
    {
     "name": "stdout",
     "output_type": "stream",
     "text": [
      "1.36300778159218e-217 已发货款\n",
      "0.0004069522291713766 资产成本\n"
     ]
    }
   ],
   "source": [
    "feature=[]\n",
    "for i in range(1,3):\n",
    "    if t_test(i)[1]<0.05:\n",
    "        feature.append(customer_info.columns[i])\n",
    "        print(t_test(i)[1],customer_info.columns[i])"
   ]
  },
  {
   "cell_type": "code",
   "execution_count": 31,
   "id": "bf1585e4",
   "metadata": {},
   "outputs": [
    {
     "name": "stdout",
     "output_type": "stream",
     "text": [
      "2.436407425018745e-25 出生日期\n",
      "6.145257024797942e-87 地区\n",
      "8.40568514553645e-16 对接员工编号\n",
      "0.001777571044258321 是否出具驾驶证\n",
      "4.855946271468169e-45 信用评分\n",
      "0.0002478917895316869 主账户贷款次数\n",
      "4.642872030982188e-07 主账户有效贷款次数\n",
      "5.951519874178259e-12 主账户中已批准的贷款\n",
      "1.0790066222428943e-07 主账户中已发放贷款\n",
      "6.207498387868622e-06 主账户每月还款\n",
      "5.817443845601251e-10 近六个月新贷款次数\n",
      "1.6696457450525643e-82 近六个月违约次数\n",
      "0.005320754820646361 平均贷款期限\n",
      "1.8440459816905007e-05 第一次贷款距今时间\n",
      "8.106778044723715e-73 贷款查询次数\n",
      "0.0 是否违约\n",
      "0.0 贷款与资产比\n",
      "0.00018904509711393909 贷款总次数\n",
      "0.013650294479529061 主账户无效贷款次数\n",
      "0.010911418685721923 无效贷款总次数\n",
      "3.9500246729397625e-12 已批准贷款总额\n",
      "9.540526725448663e-08 已发放贷款总额\n",
      "9.532431330750415e-06 每月还款总额\n",
      "9.584051932854667e-23 主账户还款期数\n",
      "2.0818349217454664e-21 工作类型\n"
     ]
    }
   ],
   "source": [
    "feature=[]\n",
    "for i in range(7,49):\n",
    "    if t_test(i)[1]<0.05:\n",
    "        feature.append(customer_info.columns[i])\n",
    "        print(t_test(i)[1],customer_info.columns[i])"
   ]
  },
  {
   "cell_type": "code",
   "execution_count": 38,
   "id": "5361c4aa",
   "metadata": {},
   "outputs": [
    {
     "data": {
      "text/plain": [
       "Index(['客户编号', '已发货款', '资产成本', '贷款与资产比列', '品牌', '骑车销售商', '车厂', '出生日期', '货款日期',\n",
       "       '地区', '对接员工编号', '是否填写手机号', '受否填写身份证', '是否出具驾驶证', '是否填写护照', '信用评分',\n",
       "       '主账户贷款次数', '主账户有效贷款次数', '主账户中尚未还清有效贷款', '主账户中已批准的贷款', '主账户中已发放贷款',\n",
       "       '次账户贷款次数', '次账户有效贷款次数', '次账户中尚未还清有效贷款', '次账户中已批准贷款', '次账户中已发放贷款',\n",
       "       '主账户每月还款', '次账户没用还款', '近六个月新贷款次数', '近六个月违约次数', '平均贷款期限', '第一次贷款距今时间',\n",
       "       '贷款查询次数', '是否违约', '贷款与资产比', '贷款总次数', '主账户无效贷款次数', '次账户无效贷款次数',\n",
       "       '无效贷款总次数', '尚未还清有效贷款总额', '已批准贷款总额', '已发放贷款总额', '每月还款总额', '贷款与已还贷款比列',\n",
       "       '主账户还款期数', '次账户还款期数', '贷款与已批准贷款比列', '总贷款次数与总有效贷款次数比', '工作类型', '总贷款'],\n",
       "      dtype='object')"
      ]
     },
     "execution_count": 38,
     "metadata": {},
     "output_type": "execute_result"
    }
   ],
   "source": [
    "customer_info.columns"
   ]
  },
  {
   "cell_type": "code",
   "execution_count": 32,
   "id": "dddf2109",
   "metadata": {},
   "outputs": [
    {
     "data": {
      "text/html": [
       "<div>\n",
       "<style scoped>\n",
       "    .dataframe tbody tr th:only-of-type {\n",
       "        vertical-align: middle;\n",
       "    }\n",
       "\n",
       "    .dataframe tbody tr th {\n",
       "        vertical-align: top;\n",
       "    }\n",
       "\n",
       "    .dataframe thead th {\n",
       "        text-align: right;\n",
       "    }\n",
       "</style>\n",
       "<table border=\"1\" class=\"dataframe\">\n",
       "  <thead>\n",
       "    <tr style=\"text-align: right;\">\n",
       "      <th></th>\n",
       "      <th>出生日期</th>\n",
       "      <th>地区</th>\n",
       "      <th>对接员工编号</th>\n",
       "      <th>是否出具驾驶证</th>\n",
       "      <th>信用评分</th>\n",
       "      <th>主账户贷款次数</th>\n",
       "      <th>主账户有效贷款次数</th>\n",
       "      <th>主账户中已批准的贷款</th>\n",
       "      <th>主账户中已发放贷款</th>\n",
       "      <th>主账户每月还款</th>\n",
       "      <th>...</th>\n",
       "      <th>已批准贷款总额</th>\n",
       "      <th>已发放贷款总额</th>\n",
       "      <th>每月还款总额</th>\n",
       "      <th>主账户还款期数</th>\n",
       "      <th>工作类型</th>\n",
       "      <th>品牌</th>\n",
       "      <th>工作类型</th>\n",
       "      <th>骑车销售商</th>\n",
       "      <th>车厂</th>\n",
       "      <th>地区</th>\n",
       "    </tr>\n",
       "  </thead>\n",
       "  <tbody>\n",
       "    <tr>\n",
       "      <th>0</th>\n",
       "      <td>1981</td>\n",
       "      <td>8</td>\n",
       "      <td>2801</td>\n",
       "      <td>0</td>\n",
       "      <td>0</td>\n",
       "      <td>0</td>\n",
       "      <td>0</td>\n",
       "      <td>0</td>\n",
       "      <td>0</td>\n",
       "      <td>0</td>\n",
       "      <td>...</td>\n",
       "      <td>0</td>\n",
       "      <td>0</td>\n",
       "      <td>0</td>\n",
       "      <td>0</td>\n",
       "      <td>0</td>\n",
       "      <td>136</td>\n",
       "      <td>0</td>\n",
       "      <td>20490</td>\n",
       "      <td>45</td>\n",
       "      <td>8</td>\n",
       "    </tr>\n",
       "    <tr>\n",
       "      <th>2</th>\n",
       "      <td>1977</td>\n",
       "      <td>9</td>\n",
       "      <td>1032</td>\n",
       "      <td>0</td>\n",
       "      <td>0</td>\n",
       "      <td>0</td>\n",
       "      <td>0</td>\n",
       "      <td>0</td>\n",
       "      <td>0</td>\n",
       "      <td>0</td>\n",
       "      <td>...</td>\n",
       "      <td>0</td>\n",
       "      <td>0</td>\n",
       "      <td>0</td>\n",
       "      <td>0</td>\n",
       "      <td>1</td>\n",
       "      <td>5</td>\n",
       "      <td>1</td>\n",
       "      <td>15663</td>\n",
       "      <td>86</td>\n",
       "      <td>9</td>\n",
       "    </tr>\n",
       "    <tr>\n",
       "      <th>3</th>\n",
       "      <td>1995</td>\n",
       "      <td>8</td>\n",
       "      <td>220</td>\n",
       "      <td>0</td>\n",
       "      <td>763</td>\n",
       "      <td>1</td>\n",
       "      <td>1</td>\n",
       "      <td>13813</td>\n",
       "      <td>13813</td>\n",
       "      <td>0</td>\n",
       "      <td>...</td>\n",
       "      <td>13813</td>\n",
       "      <td>13813</td>\n",
       "      <td>0</td>\n",
       "      <td>13813</td>\n",
       "      <td>0</td>\n",
       "      <td>76</td>\n",
       "      <td>0</td>\n",
       "      <td>17242</td>\n",
       "      <td>48</td>\n",
       "      <td>8</td>\n",
       "    </tr>\n",
       "    <tr>\n",
       "      <th>5</th>\n",
       "      <td>1993</td>\n",
       "      <td>3</td>\n",
       "      <td>912</td>\n",
       "      <td>0</td>\n",
       "      <td>749</td>\n",
       "      <td>2</td>\n",
       "      <td>1</td>\n",
       "      <td>17700</td>\n",
       "      <td>17700</td>\n",
       "      <td>1475</td>\n",
       "      <td>...</td>\n",
       "      <td>17700</td>\n",
       "      <td>17700</td>\n",
       "      <td>1475</td>\n",
       "      <td>11</td>\n",
       "      <td>0</td>\n",
       "      <td>152</td>\n",
       "      <td>0</td>\n",
       "      <td>14470</td>\n",
       "      <td>51</td>\n",
       "      <td>3</td>\n",
       "    </tr>\n",
       "    <tr>\n",
       "      <th>6</th>\n",
       "      <td>1971</td>\n",
       "      <td>6</td>\n",
       "      <td>1885</td>\n",
       "      <td>0</td>\n",
       "      <td>300</td>\n",
       "      <td>3</td>\n",
       "      <td>1</td>\n",
       "      <td>100000</td>\n",
       "      <td>100000</td>\n",
       "      <td>3207</td>\n",
       "      <td>...</td>\n",
       "      <td>100000</td>\n",
       "      <td>100000</td>\n",
       "      <td>3207</td>\n",
       "      <td>31</td>\n",
       "      <td>1</td>\n",
       "      <td>34</td>\n",
       "      <td>1</td>\n",
       "      <td>16556</td>\n",
       "      <td>86</td>\n",
       "      <td>6</td>\n",
       "    </tr>\n",
       "    <tr>\n",
       "      <th>...</th>\n",
       "      <td>...</td>\n",
       "      <td>...</td>\n",
       "      <td>...</td>\n",
       "      <td>...</td>\n",
       "      <td>...</td>\n",
       "      <td>...</td>\n",
       "      <td>...</td>\n",
       "      <td>...</td>\n",
       "      <td>...</td>\n",
       "      <td>...</td>\n",
       "      <td>...</td>\n",
       "      <td>...</td>\n",
       "      <td>...</td>\n",
       "      <td>...</td>\n",
       "      <td>...</td>\n",
       "      <td>...</td>\n",
       "      <td>...</td>\n",
       "      <td>...</td>\n",
       "      <td>...</td>\n",
       "      <td>...</td>\n",
       "      <td>...</td>\n",
       "    </tr>\n",
       "    <tr>\n",
       "      <th>199710</th>\n",
       "      <td>1995</td>\n",
       "      <td>9</td>\n",
       "      <td>2636</td>\n",
       "      <td>0</td>\n",
       "      <td>0</td>\n",
       "      <td>0</td>\n",
       "      <td>0</td>\n",
       "      <td>0</td>\n",
       "      <td>0</td>\n",
       "      <td>0</td>\n",
       "      <td>...</td>\n",
       "      <td>0</td>\n",
       "      <td>0</td>\n",
       "      <td>0</td>\n",
       "      <td>0</td>\n",
       "      <td>1</td>\n",
       "      <td>5</td>\n",
       "      <td>1</td>\n",
       "      <td>16817</td>\n",
       "      <td>48</td>\n",
       "      <td>9</td>\n",
       "    </tr>\n",
       "    <tr>\n",
       "      <th>199711</th>\n",
       "      <td>1976</td>\n",
       "      <td>8</td>\n",
       "      <td>822</td>\n",
       "      <td>0</td>\n",
       "      <td>726</td>\n",
       "      <td>22</td>\n",
       "      <td>7</td>\n",
       "      <td>214103</td>\n",
       "      <td>214103</td>\n",
       "      <td>354750</td>\n",
       "      <td>...</td>\n",
       "      <td>214103</td>\n",
       "      <td>214103</td>\n",
       "      <td>354750</td>\n",
       "      <td>0</td>\n",
       "      <td>1</td>\n",
       "      <td>13</td>\n",
       "      <td>1</td>\n",
       "      <td>14614</td>\n",
       "      <td>86</td>\n",
       "      <td>8</td>\n",
       "    </tr>\n",
       "    <tr>\n",
       "      <th>199713</th>\n",
       "      <td>1985</td>\n",
       "      <td>6</td>\n",
       "      <td>1641</td>\n",
       "      <td>0</td>\n",
       "      <td>0</td>\n",
       "      <td>0</td>\n",
       "      <td>0</td>\n",
       "      <td>0</td>\n",
       "      <td>0</td>\n",
       "      <td>0</td>\n",
       "      <td>...</td>\n",
       "      <td>0</td>\n",
       "      <td>0</td>\n",
       "      <td>0</td>\n",
       "      <td>0</td>\n",
       "      <td>0</td>\n",
       "      <td>34</td>\n",
       "      <td>0</td>\n",
       "      <td>15142</td>\n",
       "      <td>86</td>\n",
       "      <td>6</td>\n",
       "    </tr>\n",
       "    <tr>\n",
       "      <th>199715</th>\n",
       "      <td>1983</td>\n",
       "      <td>4</td>\n",
       "      <td>306</td>\n",
       "      <td>0</td>\n",
       "      <td>0</td>\n",
       "      <td>0</td>\n",
       "      <td>0</td>\n",
       "      <td>0</td>\n",
       "      <td>0</td>\n",
       "      <td>0</td>\n",
       "      <td>...</td>\n",
       "      <td>0</td>\n",
       "      <td>0</td>\n",
       "      <td>0</td>\n",
       "      <td>0</td>\n",
       "      <td>1</td>\n",
       "      <td>74</td>\n",
       "      <td>1</td>\n",
       "      <td>16846</td>\n",
       "      <td>45</td>\n",
       "      <td>4</td>\n",
       "    </tr>\n",
       "    <tr>\n",
       "      <th>199716</th>\n",
       "      <td>1970</td>\n",
       "      <td>4</td>\n",
       "      <td>57</td>\n",
       "      <td>0</td>\n",
       "      <td>708</td>\n",
       "      <td>3</td>\n",
       "      <td>2</td>\n",
       "      <td>106508</td>\n",
       "      <td>106508</td>\n",
       "      <td>0</td>\n",
       "      <td>...</td>\n",
       "      <td>106508</td>\n",
       "      <td>106508</td>\n",
       "      <td>0</td>\n",
       "      <td>106508</td>\n",
       "      <td>2</td>\n",
       "      <td>2</td>\n",
       "      <td>2</td>\n",
       "      <td>23169</td>\n",
       "      <td>45</td>\n",
       "      <td>4</td>\n",
       "    </tr>\n",
       "  </tbody>\n",
       "</table>\n",
       "<p>171330 rows × 30 columns</p>\n",
       "</div>"
      ],
      "text/plain": [
       "        出生日期  地区  对接员工编号  是否出具驾驶证  信用评分  主账户贷款次数  主账户有效贷款次数  主账户中已批准的贷款  \\\n",
       "0       1981   8    2801        0     0        0          0           0   \n",
       "2       1977   9    1032        0     0        0          0           0   \n",
       "3       1995   8     220        0   763        1          1       13813   \n",
       "5       1993   3     912        0   749        2          1       17700   \n",
       "6       1971   6    1885        0   300        3          1      100000   \n",
       "...      ...  ..     ...      ...   ...      ...        ...         ...   \n",
       "199710  1995   9    2636        0     0        0          0           0   \n",
       "199711  1976   8     822        0   726       22          7      214103   \n",
       "199713  1985   6    1641        0     0        0          0           0   \n",
       "199715  1983   4     306        0     0        0          0           0   \n",
       "199716  1970   4      57        0   708        3          2      106508   \n",
       "\n",
       "        主账户中已发放贷款  主账户每月还款  ...  已批准贷款总额  已发放贷款总额  每月还款总额  主账户还款期数  工作类型   品牌  \\\n",
       "0               0        0  ...        0        0       0        0     0  136   \n",
       "2               0        0  ...        0        0       0        0     1    5   \n",
       "3           13813        0  ...    13813    13813       0    13813     0   76   \n",
       "5           17700     1475  ...    17700    17700    1475       11     0  152   \n",
       "6          100000     3207  ...   100000   100000    3207       31     1   34   \n",
       "...           ...      ...  ...      ...      ...     ...      ...   ...  ...   \n",
       "199710          0        0  ...        0        0       0        0     1    5   \n",
       "199711     214103   354750  ...   214103   214103  354750        0     1   13   \n",
       "199713          0        0  ...        0        0       0        0     0   34   \n",
       "199715          0        0  ...        0        0       0        0     1   74   \n",
       "199716     106508        0  ...   106508   106508       0   106508     2    2   \n",
       "\n",
       "        工作类型  骑车销售商  车厂  地区  \n",
       "0          0  20490  45   8  \n",
       "2          1  15663  86   9  \n",
       "3          0  17242  48   8  \n",
       "5          0  14470  51   3  \n",
       "6          1  16556  86   6  \n",
       "...      ...    ...  ..  ..  \n",
       "199710     1  16817  48   9  \n",
       "199711     1  14614  86   8  \n",
       "199713     0  15142  86   6  \n",
       "199715     1  16846  45   4  \n",
       "199716     2  23169  45   4  \n",
       "\n",
       "[171330 rows x 30 columns]"
      ]
     },
     "execution_count": 32,
     "metadata": {},
     "output_type": "execute_result"
    }
   ],
   "source": [
    "customer_info3=pd.concat([customer_info.loc[:,feature],customer_info2],axis=1)\n",
    "customer_info3"
   ]
  },
  {
   "cell_type": "code",
   "execution_count": 41,
   "id": "4b87f5cd",
   "metadata": {},
   "outputs": [
    {
     "data": {
      "text/html": [
       "<div>\n",
       "<style scoped>\n",
       "    .dataframe tbody tr th:only-of-type {\n",
       "        vertical-align: middle;\n",
       "    }\n",
       "\n",
       "    .dataframe tbody tr th {\n",
       "        vertical-align: top;\n",
       "    }\n",
       "\n",
       "    .dataframe thead th {\n",
       "        text-align: right;\n",
       "    }\n",
       "</style>\n",
       "<table border=\"1\" class=\"dataframe\">\n",
       "  <thead>\n",
       "    <tr style=\"text-align: right;\">\n",
       "      <th></th>\n",
       "      <th>已发货款</th>\n",
       "      <th>资产成本</th>\n",
       "      <th>出生日期</th>\n",
       "      <th>地区</th>\n",
       "      <th>对接员工编号</th>\n",
       "      <th>是否出具驾驶证</th>\n",
       "      <th>信用评分</th>\n",
       "      <th>主账户贷款次数</th>\n",
       "      <th>主账户有效贷款次数</th>\n",
       "      <th>主账户中已批准的贷款</th>\n",
       "      <th>...</th>\n",
       "      <th>已批准贷款总额</th>\n",
       "      <th>已发放贷款总额</th>\n",
       "      <th>每月还款总额</th>\n",
       "      <th>主账户还款期数</th>\n",
       "      <th>工作类型</th>\n",
       "      <th>品牌</th>\n",
       "      <th>工作类型</th>\n",
       "      <th>骑车销售商</th>\n",
       "      <th>车厂</th>\n",
       "      <th>地区</th>\n",
       "    </tr>\n",
       "  </thead>\n",
       "  <tbody>\n",
       "    <tr>\n",
       "      <th>0</th>\n",
       "      <td>65532</td>\n",
       "      <td>78990</td>\n",
       "      <td>1981</td>\n",
       "      <td>8</td>\n",
       "      <td>2801</td>\n",
       "      <td>0</td>\n",
       "      <td>0</td>\n",
       "      <td>0</td>\n",
       "      <td>0</td>\n",
       "      <td>0</td>\n",
       "      <td>...</td>\n",
       "      <td>0</td>\n",
       "      <td>0</td>\n",
       "      <td>0</td>\n",
       "      <td>0</td>\n",
       "      <td>0</td>\n",
       "      <td>136</td>\n",
       "      <td>0</td>\n",
       "      <td>20490</td>\n",
       "      <td>45</td>\n",
       "      <td>8</td>\n",
       "    </tr>\n",
       "    <tr>\n",
       "      <th>2</th>\n",
       "      <td>58413</td>\n",
       "      <td>67960</td>\n",
       "      <td>1977</td>\n",
       "      <td>9</td>\n",
       "      <td>1032</td>\n",
       "      <td>0</td>\n",
       "      <td>0</td>\n",
       "      <td>0</td>\n",
       "      <td>0</td>\n",
       "      <td>0</td>\n",
       "      <td>...</td>\n",
       "      <td>0</td>\n",
       "      <td>0</td>\n",
       "      <td>0</td>\n",
       "      <td>0</td>\n",
       "      <td>1</td>\n",
       "      <td>5</td>\n",
       "      <td>1</td>\n",
       "      <td>15663</td>\n",
       "      <td>86</td>\n",
       "      <td>9</td>\n",
       "    </tr>\n",
       "    <tr>\n",
       "      <th>3</th>\n",
       "      <td>72317</td>\n",
       "      <td>99750</td>\n",
       "      <td>1995</td>\n",
       "      <td>8</td>\n",
       "      <td>220</td>\n",
       "      <td>0</td>\n",
       "      <td>763</td>\n",
       "      <td>1</td>\n",
       "      <td>1</td>\n",
       "      <td>13813</td>\n",
       "      <td>...</td>\n",
       "      <td>13813</td>\n",
       "      <td>13813</td>\n",
       "      <td>0</td>\n",
       "      <td>13813</td>\n",
       "      <td>0</td>\n",
       "      <td>76</td>\n",
       "      <td>0</td>\n",
       "      <td>17242</td>\n",
       "      <td>48</td>\n",
       "      <td>8</td>\n",
       "    </tr>\n",
       "    <tr>\n",
       "      <th>5</th>\n",
       "      <td>63882</td>\n",
       "      <td>79605</td>\n",
       "      <td>1993</td>\n",
       "      <td>3</td>\n",
       "      <td>912</td>\n",
       "      <td>0</td>\n",
       "      <td>749</td>\n",
       "      <td>2</td>\n",
       "      <td>1</td>\n",
       "      <td>17700</td>\n",
       "      <td>...</td>\n",
       "      <td>17700</td>\n",
       "      <td>17700</td>\n",
       "      <td>1475</td>\n",
       "      <td>11</td>\n",
       "      <td>0</td>\n",
       "      <td>152</td>\n",
       "      <td>0</td>\n",
       "      <td>14470</td>\n",
       "      <td>51</td>\n",
       "      <td>3</td>\n",
       "    </tr>\n",
       "    <tr>\n",
       "      <th>6</th>\n",
       "      <td>54013</td>\n",
       "      <td>62371</td>\n",
       "      <td>1971</td>\n",
       "      <td>6</td>\n",
       "      <td>1885</td>\n",
       "      <td>0</td>\n",
       "      <td>300</td>\n",
       "      <td>3</td>\n",
       "      <td>1</td>\n",
       "      <td>100000</td>\n",
       "      <td>...</td>\n",
       "      <td>100000</td>\n",
       "      <td>100000</td>\n",
       "      <td>3207</td>\n",
       "      <td>31</td>\n",
       "      <td>1</td>\n",
       "      <td>34</td>\n",
       "      <td>1</td>\n",
       "      <td>16556</td>\n",
       "      <td>86</td>\n",
       "      <td>6</td>\n",
       "    </tr>\n",
       "    <tr>\n",
       "      <th>...</th>\n",
       "      <td>...</td>\n",
       "      <td>...</td>\n",
       "      <td>...</td>\n",
       "      <td>...</td>\n",
       "      <td>...</td>\n",
       "      <td>...</td>\n",
       "      <td>...</td>\n",
       "      <td>...</td>\n",
       "      <td>...</td>\n",
       "      <td>...</td>\n",
       "      <td>...</td>\n",
       "      <td>...</td>\n",
       "      <td>...</td>\n",
       "      <td>...</td>\n",
       "      <td>...</td>\n",
       "      <td>...</td>\n",
       "      <td>...</td>\n",
       "      <td>...</td>\n",
       "      <td>...</td>\n",
       "      <td>...</td>\n",
       "      <td>...</td>\n",
       "    </tr>\n",
       "    <tr>\n",
       "      <th>199710</th>\n",
       "      <td>65489</td>\n",
       "      <td>113590</td>\n",
       "      <td>1995</td>\n",
       "      <td>9</td>\n",
       "      <td>2636</td>\n",
       "      <td>0</td>\n",
       "      <td>0</td>\n",
       "      <td>0</td>\n",
       "      <td>0</td>\n",
       "      <td>0</td>\n",
       "      <td>...</td>\n",
       "      <td>0</td>\n",
       "      <td>0</td>\n",
       "      <td>0</td>\n",
       "      <td>0</td>\n",
       "      <td>1</td>\n",
       "      <td>5</td>\n",
       "      <td>1</td>\n",
       "      <td>16817</td>\n",
       "      <td>48</td>\n",
       "      <td>9</td>\n",
       "    </tr>\n",
       "    <tr>\n",
       "      <th>199711</th>\n",
       "      <td>63447</td>\n",
       "      <td>73701</td>\n",
       "      <td>1976</td>\n",
       "      <td>8</td>\n",
       "      <td>822</td>\n",
       "      <td>0</td>\n",
       "      <td>726</td>\n",
       "      <td>22</td>\n",
       "      <td>7</td>\n",
       "      <td>214103</td>\n",
       "      <td>...</td>\n",
       "      <td>214103</td>\n",
       "      <td>214103</td>\n",
       "      <td>354750</td>\n",
       "      <td>0</td>\n",
       "      <td>1</td>\n",
       "      <td>13</td>\n",
       "      <td>1</td>\n",
       "      <td>14614</td>\n",
       "      <td>86</td>\n",
       "      <td>8</td>\n",
       "    </tr>\n",
       "    <tr>\n",
       "      <th>199713</th>\n",
       "      <td>52303</td>\n",
       "      <td>72677</td>\n",
       "      <td>1985</td>\n",
       "      <td>6</td>\n",
       "      <td>1641</td>\n",
       "      <td>0</td>\n",
       "      <td>0</td>\n",
       "      <td>0</td>\n",
       "      <td>0</td>\n",
       "      <td>0</td>\n",
       "      <td>...</td>\n",
       "      <td>0</td>\n",
       "      <td>0</td>\n",
       "      <td>0</td>\n",
       "      <td>0</td>\n",
       "      <td>0</td>\n",
       "      <td>34</td>\n",
       "      <td>0</td>\n",
       "      <td>15142</td>\n",
       "      <td>86</td>\n",
       "      <td>6</td>\n",
       "    </tr>\n",
       "    <tr>\n",
       "      <th>199715</th>\n",
       "      <td>54509</td>\n",
       "      <td>71921</td>\n",
       "      <td>1983</td>\n",
       "      <td>4</td>\n",
       "      <td>306</td>\n",
       "      <td>0</td>\n",
       "      <td>0</td>\n",
       "      <td>0</td>\n",
       "      <td>0</td>\n",
       "      <td>0</td>\n",
       "      <td>...</td>\n",
       "      <td>0</td>\n",
       "      <td>0</td>\n",
       "      <td>0</td>\n",
       "      <td>0</td>\n",
       "      <td>1</td>\n",
       "      <td>74</td>\n",
       "      <td>1</td>\n",
       "      <td>16846</td>\n",
       "      <td>45</td>\n",
       "      <td>4</td>\n",
       "    </tr>\n",
       "    <tr>\n",
       "      <th>199716</th>\n",
       "      <td>63147</td>\n",
       "      <td>72000</td>\n",
       "      <td>1970</td>\n",
       "      <td>4</td>\n",
       "      <td>57</td>\n",
       "      <td>0</td>\n",
       "      <td>708</td>\n",
       "      <td>3</td>\n",
       "      <td>2</td>\n",
       "      <td>106508</td>\n",
       "      <td>...</td>\n",
       "      <td>106508</td>\n",
       "      <td>106508</td>\n",
       "      <td>0</td>\n",
       "      <td>106508</td>\n",
       "      <td>2</td>\n",
       "      <td>2</td>\n",
       "      <td>2</td>\n",
       "      <td>23169</td>\n",
       "      <td>45</td>\n",
       "      <td>4</td>\n",
       "    </tr>\n",
       "  </tbody>\n",
       "</table>\n",
       "<p>171330 rows × 32 columns</p>\n",
       "</div>"
      ],
      "text/plain": [
       "         已发货款    资产成本  出生日期  地区  对接员工编号  是否出具驾驶证  信用评分  主账户贷款次数  主账户有效贷款次数  \\\n",
       "0       65532   78990  1981   8    2801        0     0        0          0   \n",
       "2       58413   67960  1977   9    1032        0     0        0          0   \n",
       "3       72317   99750  1995   8     220        0   763        1          1   \n",
       "5       63882   79605  1993   3     912        0   749        2          1   \n",
       "6       54013   62371  1971   6    1885        0   300        3          1   \n",
       "...       ...     ...   ...  ..     ...      ...   ...      ...        ...   \n",
       "199710  65489  113590  1995   9    2636        0     0        0          0   \n",
       "199711  63447   73701  1976   8     822        0   726       22          7   \n",
       "199713  52303   72677  1985   6    1641        0     0        0          0   \n",
       "199715  54509   71921  1983   4     306        0     0        0          0   \n",
       "199716  63147   72000  1970   4      57        0   708        3          2   \n",
       "\n",
       "        主账户中已批准的贷款  ...  已批准贷款总额  已发放贷款总额  每月还款总额  主账户还款期数  工作类型   品牌  工作类型  \\\n",
       "0                0  ...        0        0       0        0     0  136     0   \n",
       "2                0  ...        0        0       0        0     1    5     1   \n",
       "3            13813  ...    13813    13813       0    13813     0   76     0   \n",
       "5            17700  ...    17700    17700    1475       11     0  152     0   \n",
       "6           100000  ...   100000   100000    3207       31     1   34     1   \n",
       "...            ...  ...      ...      ...     ...      ...   ...  ...   ...   \n",
       "199710           0  ...        0        0       0        0     1    5     1   \n",
       "199711      214103  ...   214103   214103  354750        0     1   13     1   \n",
       "199713           0  ...        0        0       0        0     0   34     0   \n",
       "199715           0  ...        0        0       0        0     1   74     1   \n",
       "199716      106508  ...   106508   106508       0   106508     2    2     2   \n",
       "\n",
       "        骑车销售商  车厂  地区  \n",
       "0       20490  45   8  \n",
       "2       15663  86   9  \n",
       "3       17242  48   8  \n",
       "5       14470  51   3  \n",
       "6       16556  86   6  \n",
       "...       ...  ..  ..  \n",
       "199710  16817  48   9  \n",
       "199711  14614  86   8  \n",
       "199713  15142  86   6  \n",
       "199715  16846  45   4  \n",
       "199716  23169  45   4  \n",
       "\n",
       "[171330 rows x 32 columns]"
      ]
     },
     "execution_count": 41,
     "metadata": {},
     "output_type": "execute_result"
    }
   ],
   "source": [
    "customer_info3=pd.concat([customer_info.loc[:,feature],customer_info3],axis=1)\n",
    "customer_info3"
   ]
  },
  {
   "cell_type": "code",
   "execution_count": 72,
   "id": "3446f03a",
   "metadata": {},
   "outputs": [
    {
     "name": "stdout",
     "output_type": "stream",
     "text": [
      "1.02495185638923\n",
      "2.654897631533559\n",
      "2.7029622154772834\n",
      "1.834054982138332\n",
      "1.1415223779352466\n",
      "1.7429420617376636\n",
      "1.2062877265126442\n",
      "2.0670114702381395\n",
      "1.0995704900480396\n",
      "1.586747770891285\n",
      "2.18967942193429\n"
     ]
    }
   ],
   "source": [
    "l1 =list(map(lambda x: variance_inflation_factor(X.values, x),range(X.shape[1]))) \n",
    "for m in l1:\n",
    "    if m<=10:\n",
    "        print(m)"
   ]
  },
  {
   "cell_type": "code",
   "execution_count": 43,
   "id": "1ae7531c",
   "metadata": {},
   "outputs": [],
   "source": [
    "from sklearn.decomposition import PCA"
   ]
  },
  {
   "cell_type": "code",
   "execution_count": 44,
   "id": "93b2efb4",
   "metadata": {},
   "outputs": [],
   "source": [
    "X=customer_info3.drop('是否违约',axis=1)\n",
    "Y=customer_info3.loc[:,'是否违约']\n"
   ]
  },
  {
   "cell_type": "code",
   "execution_count": 71,
   "id": "77ba6b14",
   "metadata": {},
   "outputs": [
    {
     "name": "stdout",
     "output_type": "stream",
     "text": [
      "[5.68722266e-01 3.03056102e-01 1.04741764e-01 2.18166153e-02\n",
      " 1.65057591e-03 1.19462720e-05 6.37456583e-07 6.52401426e-08\n",
      " 1.65737344e-08 1.03615169e-08 1.30710904e-09 6.81999912e-11\n",
      " 4.43379657e-11 8.66677993e-12 2.96114547e-12 1.39670512e-12]\n"
     ]
    },
    {
     "data": {
      "text/plain": [
       "<BarContainer object of 16 artists>"
      ]
     },
     "execution_count": 71,
     "metadata": {},
     "output_type": "execute_result"
    },
    {
     "data": {
      "image/png": "[encoded data removed]",
      "text/plain": [
       "<Figure size 432x288 with 1 Axes>"
      ]
     },
     "metadata": {
      "needs_background": "light"
     },
     "output_type": "display_data"
    }
   ],
   "source": [
    "pca=PCA(n_components=16)\n",
    "pca.fit(X)\n",
    "print(pca.explained_variance_ratio_)\n",
    "x=range(16)\n",
    "plt.bar(x,height=pca.explained_variance_ratio_)"
   ]
  },
  {
   "cell_type": "code",
   "execution_count": 239,
   "id": "c0cc7c6a",
   "metadata": {},
   "outputs": [
    {
     "data": {
      "text/plain": [
       "array([0.72744349, 0.94470229, 0.98739574, 0.99360554, 0.99822232,\n",
       "       0.99920383, 0.99981116, 0.99999536, 0.99999972, 0.99999996,\n",
       "       0.99999998, 1.        , 1.        , 1.        , 1.        ,\n",
       "       1.        , 1.        , 1.        , 1.        , 1.        ,\n",
       "       1.        , 1.        , 1.        , 1.        ])"
      ]
     },
     "execution_count": 239,
     "metadata": {},
     "output_type": "execute_result"
    }
   ],
   "source": [
    "pca.explained_variance_ratio_.cumsum()"
   ]
  },
  {
   "cell_type": "code",
   "execution_count": 77,
   "id": "4f7d2fb8",
   "metadata": {},
   "outputs": [
    {
     "data": {
      "text/plain": [
       "<AxesSubplot:>"
      ]
     },
     "execution_count": 77,
     "metadata": {},
     "output_type": "execute_result"
    },
    {
     "data": {
      "image/png": "[encoded data removed]",
      "text/plain": [
       "<Figure size 648x648 with 2 Axes>"
      ]
     },
     "metadata": {
      "needs_background": "light"
     },
     "output_type": "display_data"
    }
   ],
   "source": [
    "import seaborn as sns\n",
    "plt.figure(figsize=(9, 9))\n",
    "sns.heatmap(X.corr(),linewidths=0.1, linecolor='w',\n",
    "            annot=True,annot_kws={'size':9},square=True)"
   ]
  },
  {
   "cell_type": "code",
   "execution_count": 66,
   "id": "6e5d63d3",
   "metadata": {},
   "outputs": [],
   "source": [
    "# X.drop('主账户无效贷款次数',axis=1,inplace=True)\n",
    "# X.drop('无效贷款总次数',axis=1,inplace=True)\n",
    "# X.drop('已批准贷款总额',axis=1,inplace=True)\n",
    "# X.drop('工作类型',axis=1,inplace=True)\n",
    "# X.drop('主账户贷款次数',axis=1,inplace=True)\n",
    "# X.drop('已发放贷款总额',axis=1,inplace=True)\n",
    "# X.drop('第一次贷款距今时间',axis=1,inplace=True)\n",
    "# X.drop('主账户有效贷款次数',axis=1,inplace=True)\n",
    "# X.drop('资产成本',axis=1,inplace=True)\n",
    "#X.drop('主账户每月还款',axis=1,inplace=True)\n",
    "#X.drop('主账户中已发放贷款',axis=1,inplace=True)"
   ]
  },
  {
   "cell_type": "code",
   "execution_count": 74,
   "id": "76211b9e",
   "metadata": {},
   "outputs": [
    {
     "data": {
      "text/html": [
       "<div>\n",
       "<style scoped>\n",
       "    .dataframe tbody tr th:only-of-type {\n",
       "        vertical-align: middle;\n",
       "    }\n",
       "\n",
       "    .dataframe tbody tr th {\n",
       "        vertical-align: top;\n",
       "    }\n",
       "\n",
       "    .dataframe thead th {\n",
       "        text-align: right;\n",
       "    }\n",
       "</style>\n",
       "<table border=\"1\" class=\"dataframe\">\n",
       "  <thead>\n",
       "    <tr style=\"text-align: right;\">\n",
       "      <th></th>\n",
       "      <th>已发货款</th>\n",
       "      <th>出生日期</th>\n",
       "      <th>是否出具驾驶证</th>\n",
       "      <th>信用评分</th>\n",
       "      <th>主账户中已批准的贷款</th>\n",
       "      <th>近六个月新贷款次数</th>\n",
       "      <th>近六个月违约次数</th>\n",
       "      <th>平均贷款期限</th>\n",
       "      <th>贷款查询次数</th>\n",
       "      <th>贷款与资产比</th>\n",
       "      <th>贷款总次数</th>\n",
       "      <th>每月还款总额</th>\n",
       "      <th>主账户还款期数</th>\n",
       "      <th>品牌</th>\n",
       "      <th>骑车销售商</th>\n",
       "      <th>车厂</th>\n",
       "    </tr>\n",
       "  </thead>\n",
       "  <tbody>\n",
       "    <tr>\n",
       "      <th>0</th>\n",
       "      <td>65532</td>\n",
       "      <td>1981</td>\n",
       "      <td>0</td>\n",
       "      <td>0</td>\n",
       "      <td>0</td>\n",
       "      <td>0</td>\n",
       "      <td>0</td>\n",
       "      <td>0</td>\n",
       "      <td>0</td>\n",
       "      <td>0.829624</td>\n",
       "      <td>0</td>\n",
       "      <td>0</td>\n",
       "      <td>0</td>\n",
       "      <td>136</td>\n",
       "      <td>20490</td>\n",
       "      <td>45</td>\n",
       "    </tr>\n",
       "    <tr>\n",
       "      <th>2</th>\n",
       "      <td>58413</td>\n",
       "      <td>1977</td>\n",
       "      <td>0</td>\n",
       "      <td>0</td>\n",
       "      <td>0</td>\n",
       "      <td>0</td>\n",
       "      <td>0</td>\n",
       "      <td>0</td>\n",
       "      <td>0</td>\n",
       "      <td>0.859520</td>\n",
       "      <td>0</td>\n",
       "      <td>0</td>\n",
       "      <td>0</td>\n",
       "      <td>5</td>\n",
       "      <td>15663</td>\n",
       "      <td>86</td>\n",
       "    </tr>\n",
       "    <tr>\n",
       "      <th>3</th>\n",
       "      <td>72317</td>\n",
       "      <td>1995</td>\n",
       "      <td>0</td>\n",
       "      <td>763</td>\n",
       "      <td>13813</td>\n",
       "      <td>0</td>\n",
       "      <td>0</td>\n",
       "      <td>25</td>\n",
       "      <td>0</td>\n",
       "      <td>0.724982</td>\n",
       "      <td>1</td>\n",
       "      <td>0</td>\n",
       "      <td>13813</td>\n",
       "      <td>76</td>\n",
       "      <td>17242</td>\n",
       "      <td>48</td>\n",
       "    </tr>\n",
       "    <tr>\n",
       "      <th>5</th>\n",
       "      <td>63882</td>\n",
       "      <td>1993</td>\n",
       "      <td>0</td>\n",
       "      <td>749</td>\n",
       "      <td>17700</td>\n",
       "      <td>1</td>\n",
       "      <td>0</td>\n",
       "      <td>13</td>\n",
       "      <td>0</td>\n",
       "      <td>0.802487</td>\n",
       "      <td>2</td>\n",
       "      <td>1475</td>\n",
       "      <td>11</td>\n",
       "      <td>152</td>\n",
       "      <td>14470</td>\n",
       "      <td>51</td>\n",
       "    </tr>\n",
       "    <tr>\n",
       "      <th>6</th>\n",
       "      <td>54013</td>\n",
       "      <td>1971</td>\n",
       "      <td>0</td>\n",
       "      <td>300</td>\n",
       "      <td>100000</td>\n",
       "      <td>0</td>\n",
       "      <td>0</td>\n",
       "      <td>17</td>\n",
       "      <td>0</td>\n",
       "      <td>0.865995</td>\n",
       "      <td>3</td>\n",
       "      <td>3207</td>\n",
       "      <td>31</td>\n",
       "      <td>34</td>\n",
       "      <td>16556</td>\n",
       "      <td>86</td>\n",
       "    </tr>\n",
       "    <tr>\n",
       "      <th>...</th>\n",
       "      <td>...</td>\n",
       "      <td>...</td>\n",
       "      <td>...</td>\n",
       "      <td>...</td>\n",
       "      <td>...</td>\n",
       "      <td>...</td>\n",
       "      <td>...</td>\n",
       "      <td>...</td>\n",
       "      <td>...</td>\n",
       "      <td>...</td>\n",
       "      <td>...</td>\n",
       "      <td>...</td>\n",
       "      <td>...</td>\n",
       "      <td>...</td>\n",
       "      <td>...</td>\n",
       "      <td>...</td>\n",
       "    </tr>\n",
       "    <tr>\n",
       "      <th>199710</th>\n",
       "      <td>65489</td>\n",
       "      <td>1995</td>\n",
       "      <td>0</td>\n",
       "      <td>0</td>\n",
       "      <td>0</td>\n",
       "      <td>0</td>\n",
       "      <td>0</td>\n",
       "      <td>0</td>\n",
       "      <td>0</td>\n",
       "      <td>0.576538</td>\n",
       "      <td>0</td>\n",
       "      <td>0</td>\n",
       "      <td>0</td>\n",
       "      <td>5</td>\n",
       "      <td>16817</td>\n",
       "      <td>48</td>\n",
       "    </tr>\n",
       "    <tr>\n",
       "      <th>199711</th>\n",
       "      <td>63447</td>\n",
       "      <td>1976</td>\n",
       "      <td>0</td>\n",
       "      <td>726</td>\n",
       "      <td>214103</td>\n",
       "      <td>5</td>\n",
       "      <td>0</td>\n",
       "      <td>12</td>\n",
       "      <td>0</td>\n",
       "      <td>0.860870</td>\n",
       "      <td>22</td>\n",
       "      <td>354750</td>\n",
       "      <td>0</td>\n",
       "      <td>13</td>\n",
       "      <td>14614</td>\n",
       "      <td>86</td>\n",
       "    </tr>\n",
       "    <tr>\n",
       "      <th>199713</th>\n",
       "      <td>52303</td>\n",
       "      <td>1985</td>\n",
       "      <td>0</td>\n",
       "      <td>0</td>\n",
       "      <td>0</td>\n",
       "      <td>0</td>\n",
       "      <td>0</td>\n",
       "      <td>0</td>\n",
       "      <td>0</td>\n",
       "      <td>0.719664</td>\n",
       "      <td>0</td>\n",
       "      <td>0</td>\n",
       "      <td>0</td>\n",
       "      <td>34</td>\n",
       "      <td>15142</td>\n",
       "      <td>86</td>\n",
       "    </tr>\n",
       "    <tr>\n",
       "      <th>199715</th>\n",
       "      <td>54509</td>\n",
       "      <td>1983</td>\n",
       "      <td>0</td>\n",
       "      <td>0</td>\n",
       "      <td>0</td>\n",
       "      <td>0</td>\n",
       "      <td>0</td>\n",
       "      <td>0</td>\n",
       "      <td>0</td>\n",
       "      <td>0.757901</td>\n",
       "      <td>0</td>\n",
       "      <td>0</td>\n",
       "      <td>0</td>\n",
       "      <td>74</td>\n",
       "      <td>16846</td>\n",
       "      <td>45</td>\n",
       "    </tr>\n",
       "    <tr>\n",
       "      <th>199716</th>\n",
       "      <td>63147</td>\n",
       "      <td>1970</td>\n",
       "      <td>0</td>\n",
       "      <td>708</td>\n",
       "      <td>106508</td>\n",
       "      <td>1</td>\n",
       "      <td>0</td>\n",
       "      <td>6</td>\n",
       "      <td>0</td>\n",
       "      <td>0.877042</td>\n",
       "      <td>3</td>\n",
       "      <td>0</td>\n",
       "      <td>106508</td>\n",
       "      <td>2</td>\n",
       "      <td>23169</td>\n",
       "      <td>45</td>\n",
       "    </tr>\n",
       "  </tbody>\n",
       "</table>\n",
       "<p>171330 rows × 16 columns</p>\n",
       "</div>"
      ],
      "text/plain": [
       "         已发货款  出生日期  是否出具驾驶证  信用评分  主账户中已批准的贷款  近六个月新贷款次数  近六个月违约次数  平均贷款期限  \\\n",
       "0       65532  1981        0     0           0          0         0       0   \n",
       "2       58413  1977        0     0           0          0         0       0   \n",
       "3       72317  1995        0   763       13813          0         0      25   \n",
       "5       63882  1993        0   749       17700          1         0      13   \n",
       "6       54013  1971        0   300      100000          0         0      17   \n",
       "...       ...   ...      ...   ...         ...        ...       ...     ...   \n",
       "199710  65489  1995        0     0           0          0         0       0   \n",
       "199711  63447  1976        0   726      214103          5         0      12   \n",
       "199713  52303  1985        0     0           0          0         0       0   \n",
       "199715  54509  1983        0     0           0          0         0       0   \n",
       "199716  63147  1970        0   708      106508          1         0       6   \n",
       "\n",
       "        贷款查询次数    贷款与资产比  贷款总次数  每月还款总额  主账户还款期数   品牌  骑车销售商  车厂  \n",
       "0            0  0.829624      0       0        0  136  20490  45  \n",
       "2            0  0.859520      0       0        0    5  15663  86  \n",
       "3            0  0.724982      1       0    13813   76  17242  48  \n",
       "5            0  0.802487      2    1475       11  152  14470  51  \n",
       "6            0  0.865995      3    3207       31   34  16556  86  \n",
       "...        ...       ...    ...     ...      ...  ...    ...  ..  \n",
       "199710       0  0.576538      0       0        0    5  16817  48  \n",
       "199711       0  0.860870     22  354750        0   13  14614  86  \n",
       "199713       0  0.719664      0       0        0   34  15142  86  \n",
       "199715       0  0.757901      0       0        0   74  16846  45  \n",
       "199716       0  0.877042      3       0   106508    2  23169  45  \n",
       "\n",
       "[171330 rows x 16 columns]"
      ]
     },
     "execution_count": 74,
     "metadata": {},
     "output_type": "execute_result"
    }
   ],
   "source": [
    "X"
   ]
  },
  {
   "cell_type": "markdown",
   "id": "86e2119a",
   "metadata": {},
   "source": [
    "# 衍生字段"
   ]
  },
  {
   "cell_type": "code",
   "execution_count": 76,
   "id": "6f395b9c",
   "metadata": {},
   "outputs": [],
   "source": [
    "X['平均贷款金额']=np.where(X['贷款总次数']==0,0,round(X['已发货款']/X['贷款总次数'],1))\n",
    "X['近半年贷款次数占比']=np.where(X['贷款总次数']==0,0,round(X['近六个月新贷款次数']/X['贷款总次数'],2))\n",
    "#X['平均每期还款']=np.where(X['贷款总次数']==0,0,round(X['已发放贷款总额']/(X['平均贷款期限']/X['贷款总次数']),2))"
   ]
  },
  {
   "cell_type": "code",
   "execution_count": 359,
   "id": "2317316f",
   "metadata": {},
   "outputs": [],
   "source": [
    "X['平均每期还款']=X['平均每期还款'].fillna(0)"
   ]
  },
  {
   "cell_type": "markdown",
   "id": "6a183ccc",
   "metadata": {},
   "source": [
    "# 建立模型 "
   ]
  },
  {
   "cell_type": "code",
   "execution_count": 78,
   "id": "01a94375",
   "metadata": {},
   "outputs": [],
   "source": [
    "import os\n",
    "import time\n",
    "\n",
    "# 模型处理模块\n",
    "from sklearn.model_selection import train_test_split\n",
    "from sklearn.model_selection import GridSearchCV\n",
    "from sklearn.preprocessing import StandardScaler\n",
    "\n",
    "# 常规模型\n",
    "from sklearn.linear_model import LogisticRegression\n",
    "from sklearn.neighbors import KNeighborsClassifier\n",
    "from sklearn.tree import DecisionTreeClassifier\n",
    "# 集成学习和stacking模型\n",
    "from sklearn.ensemble import AdaBoostClassifier, GradientBoostingClassifier, RandomForestClassifier\n",
    "\n",
    "# 评价标准模块\n",
    "from sklearn import metrics\n",
    "from sklearn.metrics import accuracy_score,roc_auc_score,recall_score,precision_score, classification_report"
   ]
  },
  {
   "cell_type": "code",
   "execution_count": 79,
   "id": "63c47cef",
   "metadata": {},
   "outputs": [],
   "source": [
    "data=pd.concat([X,Y],axis=1)\n",
    "for i in data.columns:\n",
    "    if data[i].dtype == np.float64:\n",
    "        data[i] = data[i].astype(\"float32\")"
   ]
  },
  {
   "cell_type": "code",
   "execution_count": 80,
   "id": "ef9bd5d1",
   "metadata": {},
   "outputs": [],
   "source": [
    "X_train,X_test,y_train,y_test = train_test_split(data.iloc[:,:-1],data.是否违约,test_size=0.3)"
   ]
  },
  {
   "cell_type": "code",
   "execution_count": 95,
   "id": "3ebd9b90",
   "metadata": {},
   "outputs": [],
   "source": [
    "def train_model(X_train, y_train, X_test, y_test, model,model_name):\n",
    "    \n",
    "    print('训练{}'.format(model_name))\n",
    "    \n",
    "    clf=model \n",
    "    start = time.time()\n",
    "    \n",
    "    #训练模型\n",
    "    clf.fit(X_train, y_train.values.ravel())\n",
    "    \n",
    "    print(\"训练集评估\")\n",
    "    train_pre = clf.predict(X_train) \n",
    "    print(classification_report(y_train,train_pre))\n",
    "    \n",
    "    print(\"检验集评估\")\n",
    "    test_pre=clf.predict(X_test)\n",
    "    print(classification_report(y_test,test_pre))\n",
    "    \n",
    "    \n",
    "    end = time.time()\n",
    "    duration = end - start\n",
    "    print('模型训练耗时：{:6f}s'.format(duration))\n",
    "    return clf"
   ]
  },
  {
   "cell_type": "code",
   "execution_count": 96,
   "id": "bc40c4df",
   "metadata": {},
   "outputs": [
    {
     "name": "stdout",
     "output_type": "stream",
     "text": [
      "训练LR\n",
      "训练集评估\n",
      "              precision    recall  f1-score   support\n",
      "\n",
      "           0       0.81      1.00      0.90     97736\n",
      "           1       0.14      0.00      0.00     22195\n",
      "\n",
      "    accuracy                           0.81    119931\n",
      "   macro avg       0.48      0.50      0.45    119931\n",
      "weighted avg       0.69      0.81      0.73    119931\n",
      "\n",
      "检验集评估\n",
      "              precision    recall  f1-score   support\n",
      "\n",
      "           0       0.82      1.00      0.90     41977\n",
      "           1       0.11      0.00      0.00      9422\n",
      "\n",
      "    accuracy                           0.82     51399\n",
      "   macro avg       0.46      0.50      0.45     51399\n",
      "weighted avg       0.69      0.82      0.73     51399\n",
      "\n",
      "模型训练耗时：1.954772s\n",
      "训练DT\n",
      "训练集评估\n",
      "              precision    recall  f1-score   support\n",
      "\n",
      "           0       1.00      1.00      1.00     97736\n",
      "           1       1.00      1.00      1.00     22195\n",
      "\n",
      "    accuracy                           1.00    119931\n",
      "   macro avg       1.00      1.00      1.00    119931\n",
      "weighted avg       1.00      1.00      1.00    119931\n",
      "\n",
      "检验集评估\n",
      "              precision    recall  f1-score   support\n",
      "\n",
      "           0       0.83      0.80      0.81     41977\n",
      "           1       0.22      0.24      0.23      9422\n",
      "\n",
      "    accuracy                           0.70     51399\n",
      "   macro avg       0.52      0.52      0.52     51399\n",
      "weighted avg       0.71      0.70      0.71     51399\n",
      "\n",
      "模型训练耗时：2.250018s\n",
      "训练AdaBoost\n",
      "训练集评估\n",
      "              precision    recall  f1-score   support\n",
      "\n",
      "           0       0.82      1.00      0.90     97736\n",
      "           1       0.49      0.00      0.00     22195\n",
      "\n",
      "    accuracy                           0.81    119931\n",
      "   macro avg       0.65      0.50      0.45    119931\n",
      "weighted avg       0.75      0.81      0.73    119931\n",
      "\n",
      "检验集评估\n",
      "              precision    recall  f1-score   support\n",
      "\n",
      "           0       0.82      1.00      0.90     41977\n",
      "           1       0.27      0.00      0.00      9422\n",
      "\n",
      "    accuracy                           0.82     51399\n",
      "   macro avg       0.54      0.50      0.45     51399\n",
      "weighted avg       0.72      0.82      0.73     51399\n",
      "\n",
      "模型训练耗时：8.768055s\n",
      "训练RF\n",
      "训练集评估\n",
      "              precision    recall  f1-score   support\n",
      "\n",
      "           0       1.00      1.00      1.00     97736\n",
      "           1       1.00      1.00      1.00     22195\n",
      "\n",
      "    accuracy                           1.00    119931\n",
      "   macro avg       1.00      1.00      1.00    119931\n",
      "weighted avg       1.00      1.00      1.00    119931\n",
      "\n",
      "检验集评估\n",
      "              precision    recall  f1-score   support\n",
      "\n",
      "           0       0.82      0.99      0.90     41977\n",
      "           1       0.34      0.02      0.04      9422\n",
      "\n",
      "    accuracy                           0.81     51399\n",
      "   macro avg       0.58      0.51      0.47     51399\n",
      "weighted avg       0.73      0.81      0.74     51399\n",
      "\n",
      "模型训练耗时：34.053157s\n"
     ]
    }
   ],
   "source": [
    "model_name_param_dict = { 'LR':(LogisticRegression()),\n",
    "                          'DT': (DecisionTreeClassifier()),\n",
    "                          'AdaBoost': (AdaBoostClassifier()),\n",
    "                          'RF': (RandomForestClassifier())                      \n",
    "                         }\n",
    "result = {}\n",
    "for model_name, model in model_name_param_dict.items():\n",
    "    result[model_name] = train_model(X_train, y_train, X_test, y_test, model,model_name)\n"
   ]
  },
  {
   "cell_type": "code",
   "execution_count": 83,
   "id": "c9aa1bc2",
   "metadata": {},
   "outputs": [
    {
     "data": {
      "text/plain": [
       "{'LR': LogisticRegression(),\n",
       " 'DT': DecisionTreeClassifier(),\n",
       " 'AdaBoost': AdaBoostClassifier(),\n",
       " 'RF': RandomForestClassifier()}"
      ]
     },
     "execution_count": 83,
     "metadata": {},
     "output_type": "execute_result"
    }
   ],
   "source": [
    "result"
   ]
  },
  {
   "cell_type": "code",
   "execution_count": 373,
   "id": "c0b4ea0c",
   "metadata": {},
   "outputs": [
    {
     "data": {
      "text/plain": [
       "{'algorithm': 'SAMME.R',\n",
       " 'learning_rate': 1.1,\n",
       " 'n_estimators': 150,\n",
       " 'random_state': 50}"
      ]
     },
     "execution_count": 373,
     "metadata": {},
     "output_type": "execute_result"
    }
   ],
   "source": [
    "param_grid = {'n_estimators': [20,50,100,150],\"learning_rate\":[0.9,1,1.1],\n",
    "             \"algorithm\": [\"SAMME.R\", \"SAMME\"],\"random_state\": [50,100,150,200]},\n",
    "model = AdaBoostClassifier()\n",
    "grid_search = GridSearchCV(model, param_grid, cv=5, scoring='roc_auc')\n",
    "temp=grid_search.fit(X_train, y_train)\n",
    "temp.best_params_"
   ]
  },
  {
   "cell_type": "code",
   "execution_count": 1,
   "id": "fa31b3ea",
   "metadata": {},
   "outputs": [
    {
     "ename": "NameError",
     "evalue": "name 'LogisticRegression' is not defined",
     "output_type": "error",
     "traceback": [
      "\u001b[1;31m---------------------------------------------------------------------------\u001b[0m",
      "\u001b[1;31mNameError\u001b[0m                                 Traceback (most recent call last)",
      "\u001b[1;32mC:\\Users\\MR707B~1.XIA\\AppData\\Local\\Temp/ipykernel_6688/497106584.py\u001b[0m in \u001b[0;36m<module>\u001b[1;34m\u001b[0m\n\u001b[0;32m      1\u001b[0m param_grid2 = {'penalty': ['l1','l2'],\"max_iter\":[100,80,120],\n\u001b[0;32m      2\u001b[0m              \"C\": [1,0.1,10],\"random_state\": [50,100,150,200]},\n\u001b[1;32m----> 3\u001b[1;33m \u001b[0mmodel2\u001b[0m \u001b[1;33m=\u001b[0m \u001b[0mLogisticRegression\u001b[0m\u001b[1;33m(\u001b[0m\u001b[1;33m)\u001b[0m\u001b[1;33m\u001b[0m\u001b[1;33m\u001b[0m\u001b[0m\n\u001b[0m\u001b[0;32m      4\u001b[0m \u001b[0mgrid_search2\u001b[0m \u001b[1;33m=\u001b[0m \u001b[0mGridSearchCV\u001b[0m\u001b[1;33m(\u001b[0m\u001b[0mmodel\u001b[0m\u001b[1;33m,\u001b[0m \u001b[0mparam_grid\u001b[0m\u001b[1;33m,\u001b[0m \u001b[0mcv\u001b[0m\u001b[1;33m=\u001b[0m\u001b[1;36m5\u001b[0m\u001b[1;33m,\u001b[0m \u001b[0mscoring\u001b[0m\u001b[1;33m=\u001b[0m\u001b[1;34m'roc_auc'\u001b[0m\u001b[1;33m)\u001b[0m\u001b[1;33m\u001b[0m\u001b[1;33m\u001b[0m\u001b[0m\n\u001b[0;32m      5\u001b[0m \u001b[0mtemp2\u001b[0m\u001b[1;33m=\u001b[0m\u001b[0mgrid_search\u001b[0m\u001b[1;33m.\u001b[0m\u001b[0mfit\u001b[0m\u001b[1;33m(\u001b[0m\u001b[0mX_train\u001b[0m\u001b[1;33m,\u001b[0m \u001b[0my_train\u001b[0m\u001b[1;33m)\u001b[0m\u001b[1;33m\u001b[0m\u001b[1;33m\u001b[0m\u001b[0m\n",
      "\u001b[1;31mNameError\u001b[0m: name 'LogisticRegression' is not defined"
     ]
    }
   ],
   "source": [
    "# param_grid2 = {'penalty': ['l1','l2'],\"max_iter\":[100,80,120],\n",
    "#              \"C\": [1,0.1,10],\"random_state\": [50,100,150,200]},\n",
    "# model2 = LogisticRegression()\n",
    "# grid_search2 = GridSearchCV(model, param_grid, cv=5, scoring='roc_auc')\n",
    "# temp2=grid_search.fit(X_train, y_train)\n",
    "# temp2.best_params_"
   ]
  },
  {
   "cell_type": "code",
   "execution_count": 98,
   "id": "d16d2ae9",
   "metadata": {},
   "outputs": [],
   "source": [
    "#优质模型保存\n",
    "import joblib\n",
    "#保存模型\n",
    "#joblib.dump(temp,'model.pkl')\n"
   ]
  },
  {
   "cell_type": "code",
   "execution_count": 107,
   "id": "c6c5a18d",
   "metadata": {},
   "outputs": [
    {
     "data": {
      "text/plain": [
       "AdaBoostClassifier(learning_rate=1.1, n_estimators=150, random_state=50)"
      ]
     },
     "execution_count": 107,
     "metadata": {},
     "output_type": "execute_result"
    }
   ],
   "source": [
    "clf=AdaBoostClassifier(algorithm='SAMME.R',learning_rate=1.1,n_estimators=150,random_state=50)\n",
    "clf.fit(X_train,y_train)"
   ]
  },
  {
   "cell_type": "code",
   "execution_count": 100,
   "id": "d99899e4",
   "metadata": {},
   "outputs": [
    {
     "data": {
      "text/plain": [
       "GridSearchCV(cv=5, estimator=AdaBoostClassifier(),\n",
       "             param_grid=({'algorithm': ['SAMME.R', 'SAMME'],\n",
       "                          'learning_rate': [0.9, 1, 1.1],\n",
       "                          'n_estimators': [20, 50, 100, 150],\n",
       "                          'random_state': [50, 100, 150, 200]},),\n",
       "             scoring='roc_auc')"
      ]
     },
     "execution_count": 100,
     "metadata": {},
     "output_type": "execute_result"
    }
   ],
   "source": [
    "import joblib\n",
    "joblib.load(\"model.pkl\")"
   ]
  },
  {
   "cell_type": "code",
   "execution_count": 108,
   "id": "848ca71a",
   "metadata": {},
   "outputs": [
    {
     "data": {
      "text/plain": [
       "0.8162415611198661"
      ]
     },
     "execution_count": 108,
     "metadata": {},
     "output_type": "execute_result"
    }
   ],
   "source": [
    "clf.score(X_test,y_test)"
   ]
  },
  {
   "cell_type": "code",
   "execution_count": null,
   "id": "2534f817",
   "metadata": {},
   "outputs": [],
   "source": []
  },
  {
   "cell_type": "code",
   "execution_count": null,
   "id": "27e02ca4",
   "metadata": {},
   "outputs": [],
   "source": []
  }
 ],
 "metadata": {
  "kernelspec": {
   "display_name": "Python 3 (ipykernel)",
   "language": "python",
   "name": "python3"
  },
  "language_info": {
   "codemirror_mode": {
    "name": "ipython",
    "version": 3
   },
   "file_extension": ".py",
   "mimetype": "text/x-python",
   "name": "python",
   "nbconvert_exporter": "python",
   "pygments_lexer": "ipython3",
   "version": "3.7.4"
  },
  "toc": {
   "base_numbering": 1,
   "nav_menu": {},
   "number_sections": true,
   "sideBar": true,
   "skip_h1_title": false,
   "title_cell": "Table of Contents",
   "title_sidebar": "Contents",
   "toc_cell": false,
   "toc_position": {},
   "toc_section_display": true,
   "toc_window_display": false
  }
 },
 "nbformat": 4,
 "nbformat_minor": 5
}
